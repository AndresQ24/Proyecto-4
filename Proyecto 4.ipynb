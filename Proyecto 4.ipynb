{
 "cells": [
  {
   "cell_type": "markdown",
   "id": "foreign-limit",
   "metadata": {},
   "source": [
    "# PROYECTO 4\n",
    "\n",
    "Basado en los proyectos 1 y 2 se eligió continuar con el análisis de properati pero esta vez extrayendo un dataset directamente de la página: https://www.properati.com.co/data/\n",
    "El cual está enfocado en Colombia con el fin de realizar un análisis de la misma y centrarnos en aquella región con mas ítems y a la vez poder poner en practica todo lo aprendido teniendo en cuenta el preprocesamiento y transformación de datos a través de la imputación de valores análisis de outliers y demás herramientas que nos permitirán ir llevando el dataset a uno más comprensible y que a su vez nos permita ejecutar correctamente modelos de machine learning."
   ]
  },
  {
   "cell_type": "markdown",
   "id": "sought-pride",
   "metadata": {},
   "source": [
    "### Repositorio GIT HUB"
   ]
  },
  {
   "cell_type": "code",
   "execution_count": null,
   "id": "acute-vatican",
   "metadata": {},
   "outputs": [],
   "source": [
    "https://github.com/AndresQ24/Proyecto-4/blob/main/Proyecto%204.ipynb"
   ]
  },
  {
   "cell_type": "markdown",
   "id": "advance-trauma",
   "metadata": {},
   "source": [
    "### Punto de partida"
   ]
  },
  {
   "cell_type": "markdown",
   "id": "deluxe-elizabeth",
   "metadata": {},
   "source": [
    "Iniciamos cargando las librerías que nos permitirán profundizar y analizar en el dataset"
   ]
  },
  {
   "cell_type": "code",
   "execution_count": 394,
   "id": "headed-vaccine",
   "metadata": {},
   "outputs": [],
   "source": [
    "import numpy as np\n",
    "import pandas as pd\n",
    "import matplotlib.pyplot as plt\n",
    "import seaborn as sns"
   ]
  },
  {
   "cell_type": "code",
   "execution_count": 395,
   "id": "inappropriate-julian",
   "metadata": {},
   "outputs": [
    {
     "name": "stdout",
     "output_type": "stream",
     "text": [
      "(1000000, 25)\n"
     ]
    },
    {
     "data": {
      "text/html": [
       "<div>\n",
       "<style scoped>\n",
       "    .dataframe tbody tr th:only-of-type {\n",
       "        vertical-align: middle;\n",
       "    }\n",
       "\n",
       "    .dataframe tbody tr th {\n",
       "        vertical-align: top;\n",
       "    }\n",
       "\n",
       "    .dataframe thead th {\n",
       "        text-align: right;\n",
       "    }\n",
       "</style>\n",
       "<table border=\"1\" class=\"dataframe\">\n",
       "  <thead>\n",
       "    <tr style=\"text-align: right;\">\n",
       "      <th></th>\n",
       "      <th>id</th>\n",
       "      <th>ad_type</th>\n",
       "      <th>start_date</th>\n",
       "      <th>end_date</th>\n",
       "      <th>created_on</th>\n",
       "      <th>lat</th>\n",
       "      <th>lon</th>\n",
       "      <th>l1</th>\n",
       "      <th>l2</th>\n",
       "      <th>l3</th>\n",
       "      <th>...</th>\n",
       "      <th>bathrooms</th>\n",
       "      <th>surface_total</th>\n",
       "      <th>surface_covered</th>\n",
       "      <th>price</th>\n",
       "      <th>currency</th>\n",
       "      <th>price_period</th>\n",
       "      <th>title</th>\n",
       "      <th>description</th>\n",
       "      <th>property_type</th>\n",
       "      <th>operation_type</th>\n",
       "    </tr>\n",
       "  </thead>\n",
       "  <tbody>\n",
       "    <tr>\n",
       "      <th>0</th>\n",
       "      <td>TqzIOWqOw3cB0pUQ8PQmpQ==</td>\n",
       "      <td>Propiedad</td>\n",
       "      <td>2020-03-29</td>\n",
       "      <td>2020-03-31</td>\n",
       "      <td>2020-03-29</td>\n",
       "      <td>NaN</td>\n",
       "      <td>NaN</td>\n",
       "      <td>Colombia</td>\n",
       "      <td>Valle del Cauca</td>\n",
       "      <td>Cali</td>\n",
       "      <td>...</td>\n",
       "      <td>2.0</td>\n",
       "      <td>NaN</td>\n",
       "      <td>NaN</td>\n",
       "      <td>1200000.0</td>\n",
       "      <td>COP</td>\n",
       "      <td>NaN</td>\n",
       "      <td>CASA EN ARRIENDO, CALI-COLSEGUROS</td>\n",
       "      <td>Alquilamos Amplio Apartamento en 2do Piso en e...</td>\n",
       "      <td>Casa</td>\n",
       "      <td>Arriendo</td>\n",
       "    </tr>\n",
       "    <tr>\n",
       "      <th>1</th>\n",
       "      <td>i+CtIEp8mZaFFUw9UKoR7A==</td>\n",
       "      <td>Propiedad</td>\n",
       "      <td>2020-03-29</td>\n",
       "      <td>2020-04-20</td>\n",
       "      <td>2020-03-29</td>\n",
       "      <td>3.354000</td>\n",
       "      <td>-76.542000</td>\n",
       "      <td>Colombia</td>\n",
       "      <td>Valle del Cauca</td>\n",
       "      <td>Cali</td>\n",
       "      <td>...</td>\n",
       "      <td>4.0</td>\n",
       "      <td>NaN</td>\n",
       "      <td>NaN</td>\n",
       "      <td>3000000.0</td>\n",
       "      <td>COP</td>\n",
       "      <td>NaN</td>\n",
       "      <td>Apartamento En Arriendo En Cali Pance CodABBNC...</td>\n",
       "      <td>Bienco Alquila Apto primer piso, ventilado, il...</td>\n",
       "      <td>Casa</td>\n",
       "      <td>Arriendo</td>\n",
       "    </tr>\n",
       "    <tr>\n",
       "      <th>2</th>\n",
       "      <td>wDD/QJgLrlmOSQTMHbPJFA==</td>\n",
       "      <td>Propiedad</td>\n",
       "      <td>2020-03-29</td>\n",
       "      <td>2020-05-09</td>\n",
       "      <td>2020-03-29</td>\n",
       "      <td>3.399714</td>\n",
       "      <td>-76.539912</td>\n",
       "      <td>Colombia</td>\n",
       "      <td>Valle del Cauca</td>\n",
       "      <td>Cali</td>\n",
       "      <td>...</td>\n",
       "      <td>5.0</td>\n",
       "      <td>NaN</td>\n",
       "      <td>NaN</td>\n",
       "      <td>500000000.0</td>\n",
       "      <td>COP</td>\n",
       "      <td>NaN</td>\n",
       "      <td>CASA EN SANTA ANITA GQP _ wasi2453589</td>\n",
       "      <td>¡¡¡VENDO CASA  EN SANTA ANITA!&lt;div&gt;&lt; _div&gt;&lt;div...</td>\n",
       "      <td>Casa</td>\n",
       "      <td>Venta</td>\n",
       "    </tr>\n",
       "    <tr>\n",
       "      <th>3</th>\n",
       "      <td>WO3kzVZLDkfVChi+O162uA==</td>\n",
       "      <td>Propiedad</td>\n",
       "      <td>2020-03-29</td>\n",
       "      <td>2020-05-09</td>\n",
       "      <td>2020-03-29</td>\n",
       "      <td>3.382361</td>\n",
       "      <td>-76.541305</td>\n",
       "      <td>Colombia</td>\n",
       "      <td>Valle del Cauca</td>\n",
       "      <td>Cali</td>\n",
       "      <td>...</td>\n",
       "      <td>4.0</td>\n",
       "      <td>NaN</td>\n",
       "      <td>NaN</td>\n",
       "      <td>235000000.0</td>\n",
       "      <td>COP</td>\n",
       "      <td>NaN</td>\n",
       "      <td>Casa ciudad Córdoba GQP _ wasi2457808</td>\n",
       "      <td>VENDO casa en ciudad Córdoba de tres pisos ind...</td>\n",
       "      <td>Casa</td>\n",
       "      <td>Venta</td>\n",
       "    </tr>\n",
       "    <tr>\n",
       "      <th>4</th>\n",
       "      <td>5Mu2GO2GgJiOZ4TBYfiQ2Q==</td>\n",
       "      <td>Propiedad</td>\n",
       "      <td>2020-03-29</td>\n",
       "      <td>2020-05-13</td>\n",
       "      <td>2020-03-29</td>\n",
       "      <td>3.422000</td>\n",
       "      <td>-76.566000</td>\n",
       "      <td>Colombia</td>\n",
       "      <td>Valle del Cauca</td>\n",
       "      <td>Cali</td>\n",
       "      <td>...</td>\n",
       "      <td>2.0</td>\n",
       "      <td>NaN</td>\n",
       "      <td>NaN</td>\n",
       "      <td>750000.0</td>\n",
       "      <td>COP</td>\n",
       "      <td>NaN</td>\n",
       "      <td>Apartamento En Arriendo En Cali Ciudad Pacífic...</td>\n",
       "      <td>Hermoso apartamento ubicado en ciudad pacífica...</td>\n",
       "      <td>Casa</td>\n",
       "      <td>Arriendo</td>\n",
       "    </tr>\n",
       "  </tbody>\n",
       "</table>\n",
       "<p>5 rows × 25 columns</p>\n",
       "</div>"
      ],
      "text/plain": [
       "                         id    ad_type  start_date    end_date  created_on  \\\n",
       "0  TqzIOWqOw3cB0pUQ8PQmpQ==  Propiedad  2020-03-29  2020-03-31  2020-03-29   \n",
       "1  i+CtIEp8mZaFFUw9UKoR7A==  Propiedad  2020-03-29  2020-04-20  2020-03-29   \n",
       "2  wDD/QJgLrlmOSQTMHbPJFA==  Propiedad  2020-03-29  2020-05-09  2020-03-29   \n",
       "3  WO3kzVZLDkfVChi+O162uA==  Propiedad  2020-03-29  2020-05-09  2020-03-29   \n",
       "4  5Mu2GO2GgJiOZ4TBYfiQ2Q==  Propiedad  2020-03-29  2020-05-13  2020-03-29   \n",
       "\n",
       "        lat        lon        l1               l2    l3  ... bathrooms  \\\n",
       "0       NaN        NaN  Colombia  Valle del Cauca  Cali  ...       2.0   \n",
       "1  3.354000 -76.542000  Colombia  Valle del Cauca  Cali  ...       4.0   \n",
       "2  3.399714 -76.539912  Colombia  Valle del Cauca  Cali  ...       5.0   \n",
       "3  3.382361 -76.541305  Colombia  Valle del Cauca  Cali  ...       4.0   \n",
       "4  3.422000 -76.566000  Colombia  Valle del Cauca  Cali  ...       2.0   \n",
       "\n",
       "  surface_total surface_covered        price  currency  price_period  \\\n",
       "0           NaN             NaN    1200000.0       COP           NaN   \n",
       "1           NaN             NaN    3000000.0       COP           NaN   \n",
       "2           NaN             NaN  500000000.0       COP           NaN   \n",
       "3           NaN             NaN  235000000.0       COP           NaN   \n",
       "4           NaN             NaN     750000.0       COP           NaN   \n",
       "\n",
       "                                               title  \\\n",
       "0                  CASA EN ARRIENDO, CALI-COLSEGUROS   \n",
       "1  Apartamento En Arriendo En Cali Pance CodABBNC...   \n",
       "2              CASA EN SANTA ANITA GQP _ wasi2453589   \n",
       "3              Casa ciudad Córdoba GQP _ wasi2457808   \n",
       "4  Apartamento En Arriendo En Cali Ciudad Pacífic...   \n",
       "\n",
       "                                         description  property_type  \\\n",
       "0  Alquilamos Amplio Apartamento en 2do Piso en e...           Casa   \n",
       "1  Bienco Alquila Apto primer piso, ventilado, il...           Casa   \n",
       "2  ¡¡¡VENDO CASA  EN SANTA ANITA!<div>< _div><div...           Casa   \n",
       "3  VENDO casa en ciudad Córdoba de tres pisos ind...           Casa   \n",
       "4  Hermoso apartamento ubicado en ciudad pacífica...           Casa   \n",
       "\n",
       "  operation_type  \n",
       "0       Arriendo  \n",
       "1       Arriendo  \n",
       "2          Venta  \n",
       "3          Venta  \n",
       "4       Arriendo  \n",
       "\n",
       "[5 rows x 25 columns]"
      ]
     },
     "execution_count": 395,
     "metadata": {},
     "output_type": "execute_result"
    }
   ],
   "source": [
    "#Cargamos nuestro dataset el cual fue extraido de https://www.properati.com.co/data/, en la opcion datasets/datasets CSV(por pais). \n",
    "\n",
    "dataset_properati = pd.read_csv('co_properties.csv')\n",
    "\n",
    "print(dataset_properati.shape)\n",
    "\n",
    "dataset_properati.head()"
   ]
  },
  {
   "cell_type": "markdown",
   "id": "viral-hawaiian",
   "metadata": {},
   "source": [
    "**ANALISIS EXPLORATORIO DE DATOS**"
   ]
  },
  {
   "cell_type": "markdown",
   "id": "musical-disposal",
   "metadata": {},
   "source": [
    "Iniciamos con nuestro análisis exploratorio de datos y a su vez procedemos a quitar aquellas columnas que de momento no usaremos o no están aportando dentro de las características que queremos dejar para realizar nuestro análisis/predicción."
   ]
  },
  {
   "cell_type": "code",
   "execution_count": 396,
   "id": "million-master",
   "metadata": {},
   "outputs": [],
   "source": [
    "dataset_properati = dataset_properati.drop(columns=['id','ad_type','start_date','end_date','l1','created_on','price_period','title','description','l5','l6']) "
   ]
  },
  {
   "cell_type": "markdown",
   "id": "persistent-africa",
   "metadata": {},
   "source": [
    "Ahora procedemos a renombrar algunas columnas con el fin de que sean más comprensibles a la hora de desarrollar nuestro análisis."
   ]
  },
  {
   "cell_type": "code",
   "execution_count": 397,
   "id": "japanese-money",
   "metadata": {},
   "outputs": [],
   "source": [
    "#Para el caso de la columna l2 procederemos a renombrarla como region\n",
    "dataset_properati.rename({'l2': 'region'},axis=1,inplace=True)\n",
    "\n",
    "#Para el caso de la columna l3 procederemos a renombrarla como ciudad\n",
    "dataset_properati.rename({'l3': 'ciudad'},axis=1,inplace=True)\n",
    "\n",
    "#Para el caso de la columna l4 procederemos a renombrarla como ciudad\n",
    "dataset_properati.rename({'l4': 'barrio'},axis=1,inplace=True)"
   ]
  },
  {
   "cell_type": "code",
   "execution_count": 398,
   "id": "periodic-distinction",
   "metadata": {},
   "outputs": [
    {
     "data": {
      "text/html": [
       "<div>\n",
       "<style scoped>\n",
       "    .dataframe tbody tr th:only-of-type {\n",
       "        vertical-align: middle;\n",
       "    }\n",
       "\n",
       "    .dataframe tbody tr th {\n",
       "        vertical-align: top;\n",
       "    }\n",
       "\n",
       "    .dataframe thead th {\n",
       "        text-align: right;\n",
       "    }\n",
       "</style>\n",
       "<table border=\"1\" class=\"dataframe\">\n",
       "  <thead>\n",
       "    <tr style=\"text-align: right;\">\n",
       "      <th></th>\n",
       "      <th>lat</th>\n",
       "      <th>lon</th>\n",
       "      <th>region</th>\n",
       "      <th>ciudad</th>\n",
       "      <th>barrio</th>\n",
       "      <th>rooms</th>\n",
       "      <th>bedrooms</th>\n",
       "      <th>bathrooms</th>\n",
       "      <th>surface_total</th>\n",
       "      <th>surface_covered</th>\n",
       "      <th>price</th>\n",
       "      <th>currency</th>\n",
       "      <th>property_type</th>\n",
       "      <th>operation_type</th>\n",
       "    </tr>\n",
       "  </thead>\n",
       "  <tbody>\n",
       "    <tr>\n",
       "      <th>0</th>\n",
       "      <td>NaN</td>\n",
       "      <td>NaN</td>\n",
       "      <td>Valle del Cauca</td>\n",
       "      <td>Cali</td>\n",
       "      <td>NaN</td>\n",
       "      <td>NaN</td>\n",
       "      <td>4.0</td>\n",
       "      <td>2.0</td>\n",
       "      <td>NaN</td>\n",
       "      <td>NaN</td>\n",
       "      <td>1200000.0</td>\n",
       "      <td>COP</td>\n",
       "      <td>Casa</td>\n",
       "      <td>Arriendo</td>\n",
       "    </tr>\n",
       "    <tr>\n",
       "      <th>1</th>\n",
       "      <td>3.354000</td>\n",
       "      <td>-76.542000</td>\n",
       "      <td>Valle del Cauca</td>\n",
       "      <td>Cali</td>\n",
       "      <td>NaN</td>\n",
       "      <td>NaN</td>\n",
       "      <td>NaN</td>\n",
       "      <td>4.0</td>\n",
       "      <td>NaN</td>\n",
       "      <td>NaN</td>\n",
       "      <td>3000000.0</td>\n",
       "      <td>COP</td>\n",
       "      <td>Casa</td>\n",
       "      <td>Arriendo</td>\n",
       "    </tr>\n",
       "    <tr>\n",
       "      <th>2</th>\n",
       "      <td>3.399714</td>\n",
       "      <td>-76.539912</td>\n",
       "      <td>Valle del Cauca</td>\n",
       "      <td>Cali</td>\n",
       "      <td>NaN</td>\n",
       "      <td>NaN</td>\n",
       "      <td>NaN</td>\n",
       "      <td>5.0</td>\n",
       "      <td>NaN</td>\n",
       "      <td>NaN</td>\n",
       "      <td>500000000.0</td>\n",
       "      <td>COP</td>\n",
       "      <td>Casa</td>\n",
       "      <td>Venta</td>\n",
       "    </tr>\n",
       "    <tr>\n",
       "      <th>3</th>\n",
       "      <td>3.382361</td>\n",
       "      <td>-76.541305</td>\n",
       "      <td>Valle del Cauca</td>\n",
       "      <td>Cali</td>\n",
       "      <td>NaN</td>\n",
       "      <td>NaN</td>\n",
       "      <td>NaN</td>\n",
       "      <td>4.0</td>\n",
       "      <td>NaN</td>\n",
       "      <td>NaN</td>\n",
       "      <td>235000000.0</td>\n",
       "      <td>COP</td>\n",
       "      <td>Casa</td>\n",
       "      <td>Venta</td>\n",
       "    </tr>\n",
       "    <tr>\n",
       "      <th>4</th>\n",
       "      <td>3.422000</td>\n",
       "      <td>-76.566000</td>\n",
       "      <td>Valle del Cauca</td>\n",
       "      <td>Cali</td>\n",
       "      <td>NaN</td>\n",
       "      <td>NaN</td>\n",
       "      <td>NaN</td>\n",
       "      <td>2.0</td>\n",
       "      <td>NaN</td>\n",
       "      <td>NaN</td>\n",
       "      <td>750000.0</td>\n",
       "      <td>COP</td>\n",
       "      <td>Casa</td>\n",
       "      <td>Arriendo</td>\n",
       "    </tr>\n",
       "  </tbody>\n",
       "</table>\n",
       "</div>"
      ],
      "text/plain": [
       "        lat        lon           region ciudad barrio  rooms  bedrooms  \\\n",
       "0       NaN        NaN  Valle del Cauca   Cali    NaN    NaN       4.0   \n",
       "1  3.354000 -76.542000  Valle del Cauca   Cali    NaN    NaN       NaN   \n",
       "2  3.399714 -76.539912  Valle del Cauca   Cali    NaN    NaN       NaN   \n",
       "3  3.382361 -76.541305  Valle del Cauca   Cali    NaN    NaN       NaN   \n",
       "4  3.422000 -76.566000  Valle del Cauca   Cali    NaN    NaN       NaN   \n",
       "\n",
       "   bathrooms  surface_total  surface_covered        price currency  \\\n",
       "0        2.0            NaN              NaN    1200000.0      COP   \n",
       "1        4.0            NaN              NaN    3000000.0      COP   \n",
       "2        5.0            NaN              NaN  500000000.0      COP   \n",
       "3        4.0            NaN              NaN  235000000.0      COP   \n",
       "4        2.0            NaN              NaN     750000.0      COP   \n",
       "\n",
       "  property_type operation_type  \n",
       "0          Casa       Arriendo  \n",
       "1          Casa       Arriendo  \n",
       "2          Casa          Venta  \n",
       "3          Casa          Venta  \n",
       "4          Casa       Arriendo  "
      ]
     },
     "execution_count": 398,
     "metadata": {},
     "output_type": "execute_result"
    }
   ],
   "source": [
    "dataset_properati.head()"
   ]
  },
  {
   "cell_type": "code",
   "execution_count": 399,
   "id": "bizarre-spank",
   "metadata": {},
   "outputs": [
    {
     "name": "stdout",
     "output_type": "stream",
     "text": [
      "<class 'pandas.core.frame.DataFrame'>\n",
      "RangeIndex: 1000000 entries, 0 to 999999\n",
      "Data columns (total 14 columns):\n",
      " #   Column           Non-Null Count    Dtype  \n",
      "---  ------           --------------    -----  \n",
      " 0   lat              732139 non-null   float64\n",
      " 1   lon              732140 non-null   float64\n",
      " 2   region           1000000 non-null  object \n",
      " 3   ciudad           947921 non-null   object \n",
      " 4   barrio           257699 non-null   object \n",
      " 5   rooms            146658 non-null   float64\n",
      " 6   bedrooms         269093 non-null   float64\n",
      " 7   bathrooms        819184 non-null   float64\n",
      " 8   surface_total    44940 non-null    float64\n",
      " 9   surface_covered  64576 non-null    float64\n",
      " 10  price            999629 non-null   float64\n",
      " 11  currency         999604 non-null   object \n",
      " 12  property_type    1000000 non-null  object \n",
      " 13  operation_type   1000000 non-null  object \n",
      "dtypes: float64(8), object(6)\n",
      "memory usage: 106.8+ MB\n"
     ]
    }
   ],
   "source": [
    "dataset_properati.info()"
   ]
  },
  {
   "cell_type": "code",
   "execution_count": 400,
   "id": "ready-empire",
   "metadata": {},
   "outputs": [
    {
     "name": "stdout",
     "output_type": "stream",
     "text": [
      "lat                267861\n",
      "lon                267860\n",
      "region                  0\n",
      "ciudad              52079\n",
      "barrio             742301\n",
      "rooms              853342\n",
      "bedrooms           730907\n",
      "bathrooms          180816\n",
      "surface_total      955060\n",
      "surface_covered    935424\n",
      "price                 371\n",
      "currency              396\n",
      "property_type           0\n",
      "operation_type          0\n",
      "dtype: int64\n"
     ]
    }
   ],
   "source": [
    "print(dataset_properati.isna().sum()) #A través de la función .isna() es posible determinar los valores faltantes/nulos;\n",
    "                                      #Sin embargo se agrega a la función .sum() para poder hacer el conteo y visualizarlo correctamente."
   ]
  },
  {
   "cell_type": "markdown",
   "id": "industrial-steel",
   "metadata": {},
   "source": [
    "Esta validacion nos permite determinar que una de las mejores variables por las cuales enfocar nuestro analisis es la de region"
   ]
  },
  {
   "cell_type": "code",
   "execution_count": 401,
   "id": "prime-antenna",
   "metadata": {},
   "outputs": [
    {
     "data": {
      "text/plain": [
       "Apartamento        557910\n",
       "Casa               224150\n",
       "Otro               134499\n",
       "Lote                41864\n",
       "Local comercial     19676\n",
       "Oficina             16169\n",
       "Finca                4961\n",
       "Depósito              669\n",
       "Parqueadero           102\n",
       "Name: property_type, dtype: int64"
      ]
     },
     "execution_count": 401,
     "metadata": {},
     "output_type": "execute_result"
    }
   ],
   "source": [
    "dataset_properati.property_type.value_counts()"
   ]
  },
  {
   "cell_type": "code",
   "execution_count": 402,
   "id": "quantitative-cambridge",
   "metadata": {},
   "outputs": [
    {
     "data": {
      "text/plain": [
       "Venta                560636\n",
       "Arriendo             439078\n",
       "Arriendo temporal       286\n",
       "Name: operation_type, dtype: int64"
      ]
     },
     "execution_count": 402,
     "metadata": {},
     "output_type": "execute_result"
    }
   ],
   "source": [
    "dataset_properati.operation_type.value_counts()"
   ]
  },
  {
   "cell_type": "code",
   "execution_count": 403,
   "id": "working-adventure",
   "metadata": {},
   "outputs": [
    {
     "data": {
      "text/plain": [
       "COP    999576\n",
       "USD        23\n",
       "ARS         5\n",
       "Name: currency, dtype: int64"
      ]
     },
     "execution_count": 403,
     "metadata": {},
     "output_type": "execute_result"
    }
   ],
   "source": [
    "dataset_properati.currency.value_counts()"
   ]
  },
  {
   "cell_type": "code",
   "execution_count": 404,
   "id": "contemporary-infection",
   "metadata": {},
   "outputs": [
    {
     "data": {
      "text/plain": [
       "Antioquia                                  342683\n",
       "Cundinamarca                               200916\n",
       "Valle del Cauca                            115771\n",
       "Caldas                                      77537\n",
       "Santander                                   73066\n",
       "Atlántico                                   68647\n",
       "Risaralda                                   28047\n",
       "Norte de Santander                          25493\n",
       "Quindío                                     13825\n",
       "Bolívar                                     13497\n",
       "Tolima                                       8737\n",
       "Cauca                                        8109\n",
       "Meta                                         6907\n",
       "Magdalena                                    4679\n",
       "Nariño                                       3333\n",
       "Huila                                        3017\n",
       "Boyacá                                       1581\n",
       "Casanare                                     1310\n",
       "Cesar                                        1164\n",
       "Córdoba                                       644\n",
       "Sucre                                         307\n",
       "Chocó                                         189\n",
       "Caquetá                                       155\n",
       "Amazonas                                       79\n",
       "San Andrés Providencia y Santa Catalina        78\n",
       "La Guajira                                     71\n",
       "Guainía                                        59\n",
       "Vichada                                        44\n",
       "Arauca                                         27\n",
       "Guaviare                                       17\n",
       "Putumayo                                       11\n",
       "Name: region, dtype: int64"
      ]
     },
     "execution_count": 404,
     "metadata": {},
     "output_type": "execute_result"
    }
   ],
   "source": [
    "dataset_properati.region.value_counts()"
   ]
  },
  {
   "cell_type": "code",
   "execution_count": 405,
   "id": "quantitative-camping",
   "metadata": {},
   "outputs": [
    {
     "data": {
      "text/plain": [
       "Medellín         267217\n",
       "Bogotá D.C       162088\n",
       "Cali              94121\n",
       "Manizales         67361\n",
       "Barranquilla      65891\n",
       "                  ...  \n",
       "Toledo                1\n",
       "Puerto Rondón         1\n",
       "Pasca                 1\n",
       "Bituima               1\n",
       "Pailitas              1\n",
       "Name: ciudad, Length: 339, dtype: int64"
      ]
     },
     "execution_count": 405,
     "metadata": {},
     "output_type": "execute_result"
    }
   ],
   "source": [
    "dataset_properati.ciudad.value_counts()"
   ]
  },
  {
   "cell_type": "code",
   "execution_count": 406,
   "id": "willing-lewis",
   "metadata": {},
   "outputs": [
    {
     "data": {
      "image/png": "[encoded data removed]",
      "text/plain": [
       "<Figure size 360x360 with 1 Axes>"
      ]
     },
     "metadata": {
      "needs_background": "light"
     },
     "output_type": "display_data"
    }
   ],
   "source": [
    "region = dataset_properati.region.value_counts()\n",
    "barrio = dataset_properati.ciudad.value_counts()\n",
    "\n",
    "#Creamos un subplot de 2 filas y 1 columna para ubicar nuestros gráficos. Se agrega un tamaño/figsize que nos permita visualizar las gráficas adecuadamente\n",
    "#fig, axes = plt.subplots(nrows = 2, ncols = 1, figsize=(25,25))  \n",
    "\n",
    "#Procedemos a indicar posición de cada uno de los gráficos y su respectivo título de acuerdo al eje.\n",
    "\n",
    "sns.barplot(x = region.index, y = region.values)\n",
    "plt.xticks(rotation=90)\n",
    "\n",
    "plt.show()"
   ]
  },
  {
   "cell_type": "markdown",
   "id": "requested-locator",
   "metadata": {},
   "source": [
    "Con base a los análisis realizados hasta ahora y apoyándonos de esta grafica nos enfocaremos en la región de Antioquia para a su vez predecir el precio de las propiedades de acuerdo al tipo de propiedad."
   ]
  },
  {
   "cell_type": "code",
   "execution_count": 407,
   "id": "supposed-mississippi",
   "metadata": {},
   "outputs": [],
   "source": [
    "Antioquia =pd.DataFrame()\n",
    "\n",
    "Antioquia = dataset_properati[(dataset_properati['region']=='Antioquia')] #Dejamos unicamente la region de interes\n",
    "\n",
    "Antioquia = dataset_properati[(dataset_properati['currency']=='COP')] #Con el fin de generar un mejor analisis unicamente dejamos la moneda/divisa colombiana\n",
    "\n",
    "Antioquia = dataset_properati[(dataset_properati['operation_type']=='Venta')] #En el tipo de operacion nos enfocamos en venta descartando operaciones de arriendo y \n",
    "                                                                              # arriendo temporal   "
   ]
  },
  {
   "cell_type": "code",
   "execution_count": 408,
   "id": "curious-personal",
   "metadata": {},
   "outputs": [
    {
     "data": {
      "text/html": [
       "<div>\n",
       "<style scoped>\n",
       "    .dataframe tbody tr th:only-of-type {\n",
       "        vertical-align: middle;\n",
       "    }\n",
       "\n",
       "    .dataframe tbody tr th {\n",
       "        vertical-align: top;\n",
       "    }\n",
       "\n",
       "    .dataframe thead th {\n",
       "        text-align: right;\n",
       "    }\n",
       "</style>\n",
       "<table border=\"1\" class=\"dataframe\">\n",
       "  <thead>\n",
       "    <tr style=\"text-align: right;\">\n",
       "      <th></th>\n",
       "      <th>lat</th>\n",
       "      <th>lon</th>\n",
       "      <th>region</th>\n",
       "      <th>ciudad</th>\n",
       "      <th>barrio</th>\n",
       "      <th>rooms</th>\n",
       "      <th>bedrooms</th>\n",
       "      <th>bathrooms</th>\n",
       "      <th>surface_total</th>\n",
       "      <th>surface_covered</th>\n",
       "      <th>price</th>\n",
       "      <th>currency</th>\n",
       "      <th>property_type</th>\n",
       "      <th>operation_type</th>\n",
       "    </tr>\n",
       "  </thead>\n",
       "  <tbody>\n",
       "    <tr>\n",
       "      <th>2</th>\n",
       "      <td>3.399714</td>\n",
       "      <td>-76.539912</td>\n",
       "      <td>Valle del Cauca</td>\n",
       "      <td>Cali</td>\n",
       "      <td>NaN</td>\n",
       "      <td>NaN</td>\n",
       "      <td>NaN</td>\n",
       "      <td>5.0</td>\n",
       "      <td>NaN</td>\n",
       "      <td>NaN</td>\n",
       "      <td>500000000.0</td>\n",
       "      <td>COP</td>\n",
       "      <td>Casa</td>\n",
       "      <td>Venta</td>\n",
       "    </tr>\n",
       "    <tr>\n",
       "      <th>3</th>\n",
       "      <td>3.382361</td>\n",
       "      <td>-76.541305</td>\n",
       "      <td>Valle del Cauca</td>\n",
       "      <td>Cali</td>\n",
       "      <td>NaN</td>\n",
       "      <td>NaN</td>\n",
       "      <td>NaN</td>\n",
       "      <td>4.0</td>\n",
       "      <td>NaN</td>\n",
       "      <td>NaN</td>\n",
       "      <td>235000000.0</td>\n",
       "      <td>COP</td>\n",
       "      <td>Casa</td>\n",
       "      <td>Venta</td>\n",
       "    </tr>\n",
       "    <tr>\n",
       "      <th>8</th>\n",
       "      <td>4.805557</td>\n",
       "      <td>-75.754193</td>\n",
       "      <td>Risaralda</td>\n",
       "      <td>Pereira</td>\n",
       "      <td>NaN</td>\n",
       "      <td>NaN</td>\n",
       "      <td>NaN</td>\n",
       "      <td>3.0</td>\n",
       "      <td>NaN</td>\n",
       "      <td>NaN</td>\n",
       "      <td>240000000.0</td>\n",
       "      <td>COP</td>\n",
       "      <td>Casa</td>\n",
       "      <td>Venta</td>\n",
       "    </tr>\n",
       "    <tr>\n",
       "      <th>9</th>\n",
       "      <td>4.797383</td>\n",
       "      <td>-75.723107</td>\n",
       "      <td>Risaralda</td>\n",
       "      <td>Pereira</td>\n",
       "      <td>NaN</td>\n",
       "      <td>NaN</td>\n",
       "      <td>NaN</td>\n",
       "      <td>3.0</td>\n",
       "      <td>NaN</td>\n",
       "      <td>NaN</td>\n",
       "      <td>800000000.0</td>\n",
       "      <td>COP</td>\n",
       "      <td>Casa</td>\n",
       "      <td>Venta</td>\n",
       "    </tr>\n",
       "    <tr>\n",
       "      <th>10</th>\n",
       "      <td>3.254355</td>\n",
       "      <td>-76.539370</td>\n",
       "      <td>Valle del Cauca</td>\n",
       "      <td>Jamundí</td>\n",
       "      <td>NaN</td>\n",
       "      <td>NaN</td>\n",
       "      <td>NaN</td>\n",
       "      <td>3.0</td>\n",
       "      <td>NaN</td>\n",
       "      <td>NaN</td>\n",
       "      <td>330000000.0</td>\n",
       "      <td>COP</td>\n",
       "      <td>Casa</td>\n",
       "      <td>Venta</td>\n",
       "    </tr>\n",
       "  </tbody>\n",
       "</table>\n",
       "</div>"
      ],
      "text/plain": [
       "         lat        lon           region   ciudad barrio  rooms  bedrooms  \\\n",
       "2   3.399714 -76.539912  Valle del Cauca     Cali    NaN    NaN       NaN   \n",
       "3   3.382361 -76.541305  Valle del Cauca     Cali    NaN    NaN       NaN   \n",
       "8   4.805557 -75.754193        Risaralda  Pereira    NaN    NaN       NaN   \n",
       "9   4.797383 -75.723107        Risaralda  Pereira    NaN    NaN       NaN   \n",
       "10  3.254355 -76.539370  Valle del Cauca  Jamundí    NaN    NaN       NaN   \n",
       "\n",
       "    bathrooms  surface_total  surface_covered        price currency  \\\n",
       "2         5.0            NaN              NaN  500000000.0      COP   \n",
       "3         4.0            NaN              NaN  235000000.0      COP   \n",
       "8         3.0            NaN              NaN  240000000.0      COP   \n",
       "9         3.0            NaN              NaN  800000000.0      COP   \n",
       "10        3.0            NaN              NaN  330000000.0      COP   \n",
       "\n",
       "   property_type operation_type  \n",
       "2           Casa          Venta  \n",
       "3           Casa          Venta  \n",
       "8           Casa          Venta  \n",
       "9           Casa          Venta  \n",
       "10          Casa          Venta  "
      ]
     },
     "execution_count": 408,
     "metadata": {},
     "output_type": "execute_result"
    }
   ],
   "source": [
    "Antioquia.head()"
   ]
  },
  {
   "cell_type": "code",
   "execution_count": 409,
   "id": "administrative-crisis",
   "metadata": {},
   "outputs": [
    {
     "name": "stdout",
     "output_type": "stream",
     "text": [
      "lat                134076\n",
      "lon                134075\n",
      "region                  0\n",
      "ciudad              38600\n",
      "barrio             417127\n",
      "rooms              460237\n",
      "bedrooms           398566\n",
      "bathrooms          133973\n",
      "surface_total      537348\n",
      "surface_covered    529155\n",
      "price                 228\n",
      "currency              248\n",
      "property_type           0\n",
      "operation_type          0\n",
      "dtype: int64\n"
     ]
    }
   ],
   "source": [
    "print(Antioquia.isna().sum()) "
   ]
  },
  {
   "cell_type": "markdown",
   "id": "grateful-karen",
   "metadata": {},
   "source": [
    "**PREPROCESAMIENTO / Transformación de Datos**"
   ]
  },
  {
   "cell_type": "markdown",
   "id": "collect-prefix",
   "metadata": {},
   "source": [
    "**Imputacion de valores faltantes para las variables surface_total y surface_covered**"
   ]
  },
  {
   "cell_type": "code",
   "execution_count": 410,
   "id": "rapid-brown",
   "metadata": {},
   "outputs": [
    {
     "name": "stderr",
     "output_type": "stream",
     "text": [
      "D:\\Miniconda\\lib\\site-packages\\pandas\\core\\series.py:4463: SettingWithCopyWarning: \n",
      "A value is trying to be set on a copy of a slice from a DataFrame\n",
      "\n",
      "See the caveats in the documentation: https://pandas.pydata.org/pandas-docs/stable/user_guide/indexing.html#returning-a-view-versus-a-copy\n",
      "  return super().fillna(\n"
     ]
    }
   ],
   "source": [
    "#En esta parte se reemplazan los valores faltantes de superficie cubierta por los de superficie total.\n",
    "Antioquia.surface_covered.fillna(Antioquia.surface_total, inplace=True) \n",
    "\n",
    "#Para este caso se reemplazan los valores faltantes de superficie total por los de superficie cubierta.\n",
    "Antioquia.surface_total.fillna(Antioquia.surface_covered, inplace=True) "
   ]
  },
  {
   "cell_type": "code",
   "execution_count": 411,
   "id": "blocked-companion",
   "metadata": {},
   "outputs": [
    {
     "name": "stderr",
     "output_type": "stream",
     "text": [
      "D:\\Miniconda\\lib\\site-packages\\pandas\\core\\frame.py:4308: SettingWithCopyWarning: \n",
      "A value is trying to be set on a copy of a slice from a DataFrame\n",
      "\n",
      "See the caveats in the documentation: https://pandas.pydata.org/pandas-docs/stable/user_guide/indexing.html#returning-a-view-versus-a-copy\n",
      "  return super().drop(\n"
     ]
    }
   ],
   "source": [
    "'''Una vez realizado el reemplazo de valores nos quedaremos únicamente con la columna de superficie total (Surface_total) \n",
    "ya que si dejáramos ambas columnas estaríamos trabajando en gran medida con valores repetidos.'''\n",
    "\n",
    "Antioquia.drop(columns = ['surface_covered'], inplace=True) "
   ]
  },
  {
   "cell_type": "code",
   "execution_count": 412,
   "id": "organized-ground",
   "metadata": {},
   "outputs": [
    {
     "name": "stdout",
     "output_type": "stream",
     "text": [
      "lat               134076\n",
      "lon               134075\n",
      "region                 0\n",
      "ciudad             38600\n",
      "barrio            417127\n",
      "rooms             460237\n",
      "bedrooms          398566\n",
      "bathrooms         133973\n",
      "surface_total     527187\n",
      "price                228\n",
      "currency             248\n",
      "property_type          0\n",
      "operation_type         0\n",
      "dtype: int64\n"
     ]
    }
   ],
   "source": [
    "print(Antioquia.isna().sum())"
   ]
  },
  {
   "cell_type": "code",
   "execution_count": 413,
   "id": "substantial-collectible",
   "metadata": {},
   "outputs": [
    {
     "name": "stderr",
     "output_type": "stream",
     "text": [
      "D:\\Miniconda\\lib\\site-packages\\numpy\\lib\\nanfunctions.py:1111: RuntimeWarning: Mean of empty slice\n",
      "  return np.nanmean(a, axis, out=out, keepdims=keepdims)\n"
     ]
    },
    {
     "data": {
      "text/plain": [
       "{'surface_total': {'Apartamento': 90.0,\n",
       "  'Casa': 208.5,\n",
       "  'Depósito': nan,\n",
       "  'Finca': 4978.0,\n",
       "  'Local comercial': 63.0,\n",
       "  'Lote': 2048.0,\n",
       "  'Oficina': 71.0,\n",
       "  'Otro': 400.0,\n",
       "  'Parqueadero': 525.0}}"
      ]
     },
     "execution_count": 413,
     "metadata": {},
     "output_type": "execute_result"
    }
   ],
   "source": [
    "FiltroSurface = Antioquia[['surface_total','property_type']].groupby('property_type').agg(pd.Series.median)\n",
    "\n",
    "#Creamos un diccionario para tener una idea más clara de la información que nos está generando al agrupar.\n",
    "FiltroSurface.to_dict()"
   ]
  },
  {
   "cell_type": "code",
   "execution_count": 414,
   "id": "optical-clark",
   "metadata": {},
   "outputs": [
    {
     "data": {
      "text/html": [
       "<div>\n",
       "<style scoped>\n",
       "    .dataframe tbody tr th:only-of-type {\n",
       "        vertical-align: middle;\n",
       "    }\n",
       "\n",
       "    .dataframe tbody tr th {\n",
       "        vertical-align: top;\n",
       "    }\n",
       "\n",
       "    .dataframe thead th {\n",
       "        text-align: right;\n",
       "    }\n",
       "</style>\n",
       "<table border=\"1\" class=\"dataframe\">\n",
       "  <thead>\n",
       "    <tr style=\"text-align: right;\">\n",
       "      <th></th>\n",
       "      <th>property_type</th>\n",
       "      <th>lat</th>\n",
       "      <th>lon</th>\n",
       "      <th>region</th>\n",
       "      <th>ciudad</th>\n",
       "      <th>barrio</th>\n",
       "      <th>rooms</th>\n",
       "      <th>bedrooms</th>\n",
       "      <th>bathrooms</th>\n",
       "      <th>surface_total</th>\n",
       "      <th>price</th>\n",
       "      <th>currency</th>\n",
       "      <th>operation_type</th>\n",
       "    </tr>\n",
       "  </thead>\n",
       "  <tbody>\n",
       "    <tr>\n",
       "      <th>0</th>\n",
       "      <td>Casa</td>\n",
       "      <td>3.399714</td>\n",
       "      <td>-76.539912</td>\n",
       "      <td>Valle del Cauca</td>\n",
       "      <td>Cali</td>\n",
       "      <td>NaN</td>\n",
       "      <td>NaN</td>\n",
       "      <td>NaN</td>\n",
       "      <td>5.0</td>\n",
       "      <td>208.5</td>\n",
       "      <td>500000000.0</td>\n",
       "      <td>COP</td>\n",
       "      <td>Venta</td>\n",
       "    </tr>\n",
       "    <tr>\n",
       "      <th>1</th>\n",
       "      <td>Casa</td>\n",
       "      <td>3.382361</td>\n",
       "      <td>-76.541305</td>\n",
       "      <td>Valle del Cauca</td>\n",
       "      <td>Cali</td>\n",
       "      <td>NaN</td>\n",
       "      <td>NaN</td>\n",
       "      <td>NaN</td>\n",
       "      <td>4.0</td>\n",
       "      <td>208.5</td>\n",
       "      <td>235000000.0</td>\n",
       "      <td>COP</td>\n",
       "      <td>Venta</td>\n",
       "    </tr>\n",
       "    <tr>\n",
       "      <th>2</th>\n",
       "      <td>Casa</td>\n",
       "      <td>4.805557</td>\n",
       "      <td>-75.754193</td>\n",
       "      <td>Risaralda</td>\n",
       "      <td>Pereira</td>\n",
       "      <td>NaN</td>\n",
       "      <td>NaN</td>\n",
       "      <td>NaN</td>\n",
       "      <td>3.0</td>\n",
       "      <td>208.5</td>\n",
       "      <td>240000000.0</td>\n",
       "      <td>COP</td>\n",
       "      <td>Venta</td>\n",
       "    </tr>\n",
       "    <tr>\n",
       "      <th>3</th>\n",
       "      <td>Casa</td>\n",
       "      <td>4.797383</td>\n",
       "      <td>-75.723107</td>\n",
       "      <td>Risaralda</td>\n",
       "      <td>Pereira</td>\n",
       "      <td>NaN</td>\n",
       "      <td>NaN</td>\n",
       "      <td>NaN</td>\n",
       "      <td>3.0</td>\n",
       "      <td>208.5</td>\n",
       "      <td>800000000.0</td>\n",
       "      <td>COP</td>\n",
       "      <td>Venta</td>\n",
       "    </tr>\n",
       "    <tr>\n",
       "      <th>4</th>\n",
       "      <td>Casa</td>\n",
       "      <td>3.254355</td>\n",
       "      <td>-76.539370</td>\n",
       "      <td>Valle del Cauca</td>\n",
       "      <td>Jamundí</td>\n",
       "      <td>NaN</td>\n",
       "      <td>NaN</td>\n",
       "      <td>NaN</td>\n",
       "      <td>3.0</td>\n",
       "      <td>208.5</td>\n",
       "      <td>330000000.0</td>\n",
       "      <td>COP</td>\n",
       "      <td>Venta</td>\n",
       "    </tr>\n",
       "  </tbody>\n",
       "</table>\n",
       "</div>"
      ],
      "text/plain": [
       "  property_type       lat        lon           region   ciudad barrio  rooms  \\\n",
       "0          Casa  3.399714 -76.539912  Valle del Cauca     Cali    NaN    NaN   \n",
       "1          Casa  3.382361 -76.541305  Valle del Cauca     Cali    NaN    NaN   \n",
       "2          Casa  4.805557 -75.754193        Risaralda  Pereira    NaN    NaN   \n",
       "3          Casa  4.797383 -75.723107        Risaralda  Pereira    NaN    NaN   \n",
       "4          Casa  3.254355 -76.539370  Valle del Cauca  Jamundí    NaN    NaN   \n",
       "\n",
       "   bedrooms  bathrooms  surface_total        price currency operation_type  \n",
       "0       NaN        5.0          208.5  500000000.0      COP          Venta  \n",
       "1       NaN        4.0          208.5  235000000.0      COP          Venta  \n",
       "2       NaN        3.0          208.5  240000000.0      COP          Venta  \n",
       "3       NaN        3.0          208.5  800000000.0      COP          Venta  \n",
       "4       NaN        3.0          208.5  330000000.0      COP          Venta  "
      ]
     },
     "execution_count": 414,
     "metadata": {},
     "output_type": "execute_result"
    }
   ],
   "source": [
    "#Establecemos property type como el índice del dataset para poder realizar el proceso de imputación.\n",
    "Antioquia = Antioquia.set_index('property_type')\n",
    "\n",
    "#Procedemos a filtrar los valores que aparecen como na para reemplazarlos con el diccionario generado\n",
    "Antioquia.surface_total.fillna(FiltroSurface.to_dict()['surface_total'],inplace=True)\n",
    "\n",
    "#Procedemos a resetear el índice con la finalidad de dejar el original; es decir que property_type deje de ser el índice para que no nos afecte en otros procesos y para poder usarlo en otras imputaciones.\n",
    "Antioquia.reset_index(inplace=True)\n",
    "\n",
    "Antioquia.head()"
   ]
  },
  {
   "cell_type": "code",
   "execution_count": 415,
   "id": "several-animation",
   "metadata": {},
   "outputs": [
    {
     "name": "stdout",
     "output_type": "stream",
     "text": [
      "property_type          0\n",
      "lat               134076\n",
      "lon               134075\n",
      "region                 0\n",
      "ciudad             38600\n",
      "barrio            417127\n",
      "rooms             460237\n",
      "bedrooms          398566\n",
      "bathrooms         133973\n",
      "surface_total        294\n",
      "price                228\n",
      "currency             248\n",
      "operation_type         0\n",
      "dtype: int64\n"
     ]
    }
   ],
   "source": [
    "print(Antioquia.isna().sum())"
   ]
  },
  {
   "cell_type": "markdown",
   "id": "quantitative-imperial",
   "metadata": {},
   "source": [
    "**Imputacion de valores faltantes para la variable bathrooms**"
   ]
  },
  {
   "cell_type": "markdown",
   "id": "entire-shooting",
   "metadata": {},
   "source": [
    "Ahora se procederá a realizar este procedimiento para la columna bathrooms"
   ]
  },
  {
   "cell_type": "code",
   "execution_count": 416,
   "id": "inner-steam",
   "metadata": {},
   "outputs": [
    {
     "name": "stderr",
     "output_type": "stream",
     "text": [
      "D:\\Miniconda\\lib\\site-packages\\numpy\\lib\\nanfunctions.py:1111: RuntimeWarning: Mean of empty slice\n",
      "  return np.nanmean(a, axis, out=out, keepdims=keepdims)\n"
     ]
    },
    {
     "data": {
      "text/plain": [
       "{'bathrooms': {'Apartamento': 2.0,\n",
       "  'Casa': 3.0,\n",
       "  'Depósito': nan,\n",
       "  'Finca': 4.0,\n",
       "  'Local comercial': 1.0,\n",
       "  'Lote': 2.0,\n",
       "  'Oficina': 1.0,\n",
       "  'Otro': 1.0,\n",
       "  'Parqueadero': 2.0}}"
      ]
     },
     "execution_count": 416,
     "metadata": {},
     "output_type": "execute_result"
    }
   ],
   "source": [
    "FiltroBathrooms = dataset_properati[['bathrooms','property_type']].groupby('property_type').agg(pd.Series.median)\n",
    "FiltroBathrooms.to_dict()"
   ]
  },
  {
   "cell_type": "code",
   "execution_count": 417,
   "id": "aggressive-makeup",
   "metadata": {},
   "outputs": [
    {
     "data": {
      "text/html": [
       "<div>\n",
       "<style scoped>\n",
       "    .dataframe tbody tr th:only-of-type {\n",
       "        vertical-align: middle;\n",
       "    }\n",
       "\n",
       "    .dataframe tbody tr th {\n",
       "        vertical-align: top;\n",
       "    }\n",
       "\n",
       "    .dataframe thead th {\n",
       "        text-align: right;\n",
       "    }\n",
       "</style>\n",
       "<table border=\"1\" class=\"dataframe\">\n",
       "  <thead>\n",
       "    <tr style=\"text-align: right;\">\n",
       "      <th></th>\n",
       "      <th>property_type</th>\n",
       "      <th>lat</th>\n",
       "      <th>lon</th>\n",
       "      <th>region</th>\n",
       "      <th>ciudad</th>\n",
       "      <th>barrio</th>\n",
       "      <th>rooms</th>\n",
       "      <th>bedrooms</th>\n",
       "      <th>bathrooms</th>\n",
       "      <th>surface_total</th>\n",
       "      <th>price</th>\n",
       "      <th>currency</th>\n",
       "      <th>operation_type</th>\n",
       "    </tr>\n",
       "  </thead>\n",
       "  <tbody>\n",
       "    <tr>\n",
       "      <th>0</th>\n",
       "      <td>Casa</td>\n",
       "      <td>3.399714</td>\n",
       "      <td>-76.539912</td>\n",
       "      <td>Valle del Cauca</td>\n",
       "      <td>Cali</td>\n",
       "      <td>NaN</td>\n",
       "      <td>NaN</td>\n",
       "      <td>NaN</td>\n",
       "      <td>5.0</td>\n",
       "      <td>208.5</td>\n",
       "      <td>500000000.0</td>\n",
       "      <td>COP</td>\n",
       "      <td>Venta</td>\n",
       "    </tr>\n",
       "    <tr>\n",
       "      <th>1</th>\n",
       "      <td>Casa</td>\n",
       "      <td>3.382361</td>\n",
       "      <td>-76.541305</td>\n",
       "      <td>Valle del Cauca</td>\n",
       "      <td>Cali</td>\n",
       "      <td>NaN</td>\n",
       "      <td>NaN</td>\n",
       "      <td>NaN</td>\n",
       "      <td>4.0</td>\n",
       "      <td>208.5</td>\n",
       "      <td>235000000.0</td>\n",
       "      <td>COP</td>\n",
       "      <td>Venta</td>\n",
       "    </tr>\n",
       "    <tr>\n",
       "      <th>2</th>\n",
       "      <td>Casa</td>\n",
       "      <td>4.805557</td>\n",
       "      <td>-75.754193</td>\n",
       "      <td>Risaralda</td>\n",
       "      <td>Pereira</td>\n",
       "      <td>NaN</td>\n",
       "      <td>NaN</td>\n",
       "      <td>NaN</td>\n",
       "      <td>3.0</td>\n",
       "      <td>208.5</td>\n",
       "      <td>240000000.0</td>\n",
       "      <td>COP</td>\n",
       "      <td>Venta</td>\n",
       "    </tr>\n",
       "    <tr>\n",
       "      <th>3</th>\n",
       "      <td>Casa</td>\n",
       "      <td>4.797383</td>\n",
       "      <td>-75.723107</td>\n",
       "      <td>Risaralda</td>\n",
       "      <td>Pereira</td>\n",
       "      <td>NaN</td>\n",
       "      <td>NaN</td>\n",
       "      <td>NaN</td>\n",
       "      <td>3.0</td>\n",
       "      <td>208.5</td>\n",
       "      <td>800000000.0</td>\n",
       "      <td>COP</td>\n",
       "      <td>Venta</td>\n",
       "    </tr>\n",
       "    <tr>\n",
       "      <th>4</th>\n",
       "      <td>Casa</td>\n",
       "      <td>3.254355</td>\n",
       "      <td>-76.539370</td>\n",
       "      <td>Valle del Cauca</td>\n",
       "      <td>Jamundí</td>\n",
       "      <td>NaN</td>\n",
       "      <td>NaN</td>\n",
       "      <td>NaN</td>\n",
       "      <td>3.0</td>\n",
       "      <td>208.5</td>\n",
       "      <td>330000000.0</td>\n",
       "      <td>COP</td>\n",
       "      <td>Venta</td>\n",
       "    </tr>\n",
       "  </tbody>\n",
       "</table>\n",
       "</div>"
      ],
      "text/plain": [
       "  property_type       lat        lon           region   ciudad barrio  rooms  \\\n",
       "0          Casa  3.399714 -76.539912  Valle del Cauca     Cali    NaN    NaN   \n",
       "1          Casa  3.382361 -76.541305  Valle del Cauca     Cali    NaN    NaN   \n",
       "2          Casa  4.805557 -75.754193        Risaralda  Pereira    NaN    NaN   \n",
       "3          Casa  4.797383 -75.723107        Risaralda  Pereira    NaN    NaN   \n",
       "4          Casa  3.254355 -76.539370  Valle del Cauca  Jamundí    NaN    NaN   \n",
       "\n",
       "   bedrooms  bathrooms  surface_total        price currency operation_type  \n",
       "0       NaN        5.0          208.5  500000000.0      COP          Venta  \n",
       "1       NaN        4.0          208.5  235000000.0      COP          Venta  \n",
       "2       NaN        3.0          208.5  240000000.0      COP          Venta  \n",
       "3       NaN        3.0          208.5  800000000.0      COP          Venta  \n",
       "4       NaN        3.0          208.5  330000000.0      COP          Venta  "
      ]
     },
     "execution_count": 417,
     "metadata": {},
     "output_type": "execute_result"
    }
   ],
   "source": [
    "Antioquia = Antioquia.set_index('property_type')\n",
    "Antioquia.bathrooms.fillna(FiltroBathrooms.to_dict()['bathrooms'],inplace=True)\n",
    "Antioquia.reset_index(inplace=True)\n",
    "Antioquia.head()"
   ]
  },
  {
   "cell_type": "code",
   "execution_count": 418,
   "id": "indirect-lecture",
   "metadata": {},
   "outputs": [
    {
     "name": "stdout",
     "output_type": "stream",
     "text": [
      "property_type          0\n",
      "lat               134076\n",
      "lon               134075\n",
      "region                 0\n",
      "ciudad             38600\n",
      "barrio            417127\n",
      "rooms             460237\n",
      "bedrooms          398566\n",
      "bathrooms            294\n",
      "surface_total        294\n",
      "price                228\n",
      "currency             248\n",
      "operation_type         0\n",
      "dtype: int64\n"
     ]
    }
   ],
   "source": [
    "print(Antioquia.isna().sum())"
   ]
  },
  {
   "cell_type": "markdown",
   "id": "cooked-analyst",
   "metadata": {},
   "source": [
    "**Imputacion de valores faltantes para la variable rooms**"
   ]
  },
  {
   "cell_type": "markdown",
   "id": "disciplinary-sigma",
   "metadata": {},
   "source": [
    "Ahora se procederá a realizar este procedimiento para la columna rooms"
   ]
  },
  {
   "cell_type": "code",
   "execution_count": 419,
   "id": "stable-defensive",
   "metadata": {},
   "outputs": [
    {
     "data": {
      "text/plain": [
       "{'rooms': {'Apartamento': 3.0,\n",
       "  'Casa': 4.0,\n",
       "  'Depósito': 3.0,\n",
       "  'Finca': 4.0,\n",
       "  'Local comercial': 2.0,\n",
       "  'Lote': 3.0,\n",
       "  'Oficina': 1.0,\n",
       "  'Otro': 4.0,\n",
       "  'Parqueadero': 3.0}}"
      ]
     },
     "execution_count": 419,
     "metadata": {},
     "output_type": "execute_result"
    }
   ],
   "source": [
    "FiltroRooms = Antioquia[['rooms','property_type']].groupby('property_type').agg(pd.Series.median)\n",
    "FiltroRooms.to_dict()"
   ]
  },
  {
   "cell_type": "code",
   "execution_count": 420,
   "id": "dental-lloyd",
   "metadata": {},
   "outputs": [
    {
     "data": {
      "text/html": [
       "<div>\n",
       "<style scoped>\n",
       "    .dataframe tbody tr th:only-of-type {\n",
       "        vertical-align: middle;\n",
       "    }\n",
       "\n",
       "    .dataframe tbody tr th {\n",
       "        vertical-align: top;\n",
       "    }\n",
       "\n",
       "    .dataframe thead th {\n",
       "        text-align: right;\n",
       "    }\n",
       "</style>\n",
       "<table border=\"1\" class=\"dataframe\">\n",
       "  <thead>\n",
       "    <tr style=\"text-align: right;\">\n",
       "      <th></th>\n",
       "      <th>property_type</th>\n",
       "      <th>lat</th>\n",
       "      <th>lon</th>\n",
       "      <th>region</th>\n",
       "      <th>ciudad</th>\n",
       "      <th>barrio</th>\n",
       "      <th>rooms</th>\n",
       "      <th>bedrooms</th>\n",
       "      <th>bathrooms</th>\n",
       "      <th>surface_total</th>\n",
       "      <th>price</th>\n",
       "      <th>currency</th>\n",
       "      <th>operation_type</th>\n",
       "    </tr>\n",
       "  </thead>\n",
       "  <tbody>\n",
       "    <tr>\n",
       "      <th>0</th>\n",
       "      <td>Casa</td>\n",
       "      <td>3.399714</td>\n",
       "      <td>-76.539912</td>\n",
       "      <td>Valle del Cauca</td>\n",
       "      <td>Cali</td>\n",
       "      <td>NaN</td>\n",
       "      <td>4.0</td>\n",
       "      <td>NaN</td>\n",
       "      <td>5.0</td>\n",
       "      <td>208.5</td>\n",
       "      <td>500000000.0</td>\n",
       "      <td>COP</td>\n",
       "      <td>Venta</td>\n",
       "    </tr>\n",
       "    <tr>\n",
       "      <th>1</th>\n",
       "      <td>Casa</td>\n",
       "      <td>3.382361</td>\n",
       "      <td>-76.541305</td>\n",
       "      <td>Valle del Cauca</td>\n",
       "      <td>Cali</td>\n",
       "      <td>NaN</td>\n",
       "      <td>4.0</td>\n",
       "      <td>NaN</td>\n",
       "      <td>4.0</td>\n",
       "      <td>208.5</td>\n",
       "      <td>235000000.0</td>\n",
       "      <td>COP</td>\n",
       "      <td>Venta</td>\n",
       "    </tr>\n",
       "    <tr>\n",
       "      <th>2</th>\n",
       "      <td>Casa</td>\n",
       "      <td>4.805557</td>\n",
       "      <td>-75.754193</td>\n",
       "      <td>Risaralda</td>\n",
       "      <td>Pereira</td>\n",
       "      <td>NaN</td>\n",
       "      <td>4.0</td>\n",
       "      <td>NaN</td>\n",
       "      <td>3.0</td>\n",
       "      <td>208.5</td>\n",
       "      <td>240000000.0</td>\n",
       "      <td>COP</td>\n",
       "      <td>Venta</td>\n",
       "    </tr>\n",
       "    <tr>\n",
       "      <th>3</th>\n",
       "      <td>Casa</td>\n",
       "      <td>4.797383</td>\n",
       "      <td>-75.723107</td>\n",
       "      <td>Risaralda</td>\n",
       "      <td>Pereira</td>\n",
       "      <td>NaN</td>\n",
       "      <td>4.0</td>\n",
       "      <td>NaN</td>\n",
       "      <td>3.0</td>\n",
       "      <td>208.5</td>\n",
       "      <td>800000000.0</td>\n",
       "      <td>COP</td>\n",
       "      <td>Venta</td>\n",
       "    </tr>\n",
       "    <tr>\n",
       "      <th>4</th>\n",
       "      <td>Casa</td>\n",
       "      <td>3.254355</td>\n",
       "      <td>-76.539370</td>\n",
       "      <td>Valle del Cauca</td>\n",
       "      <td>Jamundí</td>\n",
       "      <td>NaN</td>\n",
       "      <td>4.0</td>\n",
       "      <td>NaN</td>\n",
       "      <td>3.0</td>\n",
       "      <td>208.5</td>\n",
       "      <td>330000000.0</td>\n",
       "      <td>COP</td>\n",
       "      <td>Venta</td>\n",
       "    </tr>\n",
       "  </tbody>\n",
       "</table>\n",
       "</div>"
      ],
      "text/plain": [
       "  property_type       lat        lon           region   ciudad barrio  rooms  \\\n",
       "0          Casa  3.399714 -76.539912  Valle del Cauca     Cali    NaN    4.0   \n",
       "1          Casa  3.382361 -76.541305  Valle del Cauca     Cali    NaN    4.0   \n",
       "2          Casa  4.805557 -75.754193        Risaralda  Pereira    NaN    4.0   \n",
       "3          Casa  4.797383 -75.723107        Risaralda  Pereira    NaN    4.0   \n",
       "4          Casa  3.254355 -76.539370  Valle del Cauca  Jamundí    NaN    4.0   \n",
       "\n",
       "   bedrooms  bathrooms  surface_total        price currency operation_type  \n",
       "0       NaN        5.0          208.5  500000000.0      COP          Venta  \n",
       "1       NaN        4.0          208.5  235000000.0      COP          Venta  \n",
       "2       NaN        3.0          208.5  240000000.0      COP          Venta  \n",
       "3       NaN        3.0          208.5  800000000.0      COP          Venta  \n",
       "4       NaN        3.0          208.5  330000000.0      COP          Venta  "
      ]
     },
     "execution_count": 420,
     "metadata": {},
     "output_type": "execute_result"
    }
   ],
   "source": [
    "Antioquia = Antioquia.set_index('property_type')\n",
    "Antioquia.rooms.fillna(FiltroRooms.to_dict()['rooms'],inplace=True)\n",
    "Antioquia.reset_index(inplace=True)\n",
    "Antioquia.head()"
   ]
  },
  {
   "cell_type": "markdown",
   "id": "patent-saturday",
   "metadata": {},
   "source": [
    "**Imputacion de valores faltantes para la variable bedrooms**"
   ]
  },
  {
   "cell_type": "markdown",
   "id": "voluntary-baseball",
   "metadata": {},
   "source": [
    "Ahora se procederá a realizar este procedimiento para la columna bedrooms"
   ]
  },
  {
   "cell_type": "code",
   "execution_count": 421,
   "id": "occasional-hierarchy",
   "metadata": {},
   "outputs": [
    {
     "data": {
      "text/plain": [
       "{'bedrooms': {'Apartamento': 3.0,\n",
       "  'Casa': 4.0,\n",
       "  'Depósito': 3.0,\n",
       "  'Finca': 4.0,\n",
       "  'Local comercial': 0.0,\n",
       "  'Lote': 0.0,\n",
       "  'Oficina': 0.0,\n",
       "  'Otro': 4.0,\n",
       "  'Parqueadero': 1.0}}"
      ]
     },
     "execution_count": 421,
     "metadata": {},
     "output_type": "execute_result"
    }
   ],
   "source": [
    "Filtrobedrooms = Antioquia[['bedrooms','property_type']].groupby('property_type').agg(pd.Series.median)\n",
    "Filtrobedrooms.to_dict()"
   ]
  },
  {
   "cell_type": "code",
   "execution_count": 422,
   "id": "classified-executive",
   "metadata": {},
   "outputs": [
    {
     "data": {
      "text/html": [
       "<div>\n",
       "<style scoped>\n",
       "    .dataframe tbody tr th:only-of-type {\n",
       "        vertical-align: middle;\n",
       "    }\n",
       "\n",
       "    .dataframe tbody tr th {\n",
       "        vertical-align: top;\n",
       "    }\n",
       "\n",
       "    .dataframe thead th {\n",
       "        text-align: right;\n",
       "    }\n",
       "</style>\n",
       "<table border=\"1\" class=\"dataframe\">\n",
       "  <thead>\n",
       "    <tr style=\"text-align: right;\">\n",
       "      <th></th>\n",
       "      <th>property_type</th>\n",
       "      <th>lat</th>\n",
       "      <th>lon</th>\n",
       "      <th>region</th>\n",
       "      <th>ciudad</th>\n",
       "      <th>barrio</th>\n",
       "      <th>rooms</th>\n",
       "      <th>bedrooms</th>\n",
       "      <th>bathrooms</th>\n",
       "      <th>surface_total</th>\n",
       "      <th>price</th>\n",
       "      <th>currency</th>\n",
       "      <th>operation_type</th>\n",
       "    </tr>\n",
       "  </thead>\n",
       "  <tbody>\n",
       "    <tr>\n",
       "      <th>0</th>\n",
       "      <td>Casa</td>\n",
       "      <td>3.399714</td>\n",
       "      <td>-76.539912</td>\n",
       "      <td>Valle del Cauca</td>\n",
       "      <td>Cali</td>\n",
       "      <td>NaN</td>\n",
       "      <td>4.0</td>\n",
       "      <td>NaN</td>\n",
       "      <td>5.0</td>\n",
       "      <td>208.5</td>\n",
       "      <td>500000000.0</td>\n",
       "      <td>COP</td>\n",
       "      <td>Venta</td>\n",
       "    </tr>\n",
       "    <tr>\n",
       "      <th>1</th>\n",
       "      <td>Casa</td>\n",
       "      <td>3.382361</td>\n",
       "      <td>-76.541305</td>\n",
       "      <td>Valle del Cauca</td>\n",
       "      <td>Cali</td>\n",
       "      <td>NaN</td>\n",
       "      <td>4.0</td>\n",
       "      <td>NaN</td>\n",
       "      <td>4.0</td>\n",
       "      <td>208.5</td>\n",
       "      <td>235000000.0</td>\n",
       "      <td>COP</td>\n",
       "      <td>Venta</td>\n",
       "    </tr>\n",
       "    <tr>\n",
       "      <th>2</th>\n",
       "      <td>Casa</td>\n",
       "      <td>4.805557</td>\n",
       "      <td>-75.754193</td>\n",
       "      <td>Risaralda</td>\n",
       "      <td>Pereira</td>\n",
       "      <td>NaN</td>\n",
       "      <td>4.0</td>\n",
       "      <td>NaN</td>\n",
       "      <td>3.0</td>\n",
       "      <td>208.5</td>\n",
       "      <td>240000000.0</td>\n",
       "      <td>COP</td>\n",
       "      <td>Venta</td>\n",
       "    </tr>\n",
       "    <tr>\n",
       "      <th>3</th>\n",
       "      <td>Casa</td>\n",
       "      <td>4.797383</td>\n",
       "      <td>-75.723107</td>\n",
       "      <td>Risaralda</td>\n",
       "      <td>Pereira</td>\n",
       "      <td>NaN</td>\n",
       "      <td>4.0</td>\n",
       "      <td>NaN</td>\n",
       "      <td>3.0</td>\n",
       "      <td>208.5</td>\n",
       "      <td>800000000.0</td>\n",
       "      <td>COP</td>\n",
       "      <td>Venta</td>\n",
       "    </tr>\n",
       "    <tr>\n",
       "      <th>4</th>\n",
       "      <td>Casa</td>\n",
       "      <td>3.254355</td>\n",
       "      <td>-76.539370</td>\n",
       "      <td>Valle del Cauca</td>\n",
       "      <td>Jamundí</td>\n",
       "      <td>NaN</td>\n",
       "      <td>4.0</td>\n",
       "      <td>NaN</td>\n",
       "      <td>3.0</td>\n",
       "      <td>208.5</td>\n",
       "      <td>330000000.0</td>\n",
       "      <td>COP</td>\n",
       "      <td>Venta</td>\n",
       "    </tr>\n",
       "  </tbody>\n",
       "</table>\n",
       "</div>"
      ],
      "text/plain": [
       "  property_type       lat        lon           region   ciudad barrio  rooms  \\\n",
       "0          Casa  3.399714 -76.539912  Valle del Cauca     Cali    NaN    4.0   \n",
       "1          Casa  3.382361 -76.541305  Valle del Cauca     Cali    NaN    4.0   \n",
       "2          Casa  4.805557 -75.754193        Risaralda  Pereira    NaN    4.0   \n",
       "3          Casa  4.797383 -75.723107        Risaralda  Pereira    NaN    4.0   \n",
       "4          Casa  3.254355 -76.539370  Valle del Cauca  Jamundí    NaN    4.0   \n",
       "\n",
       "   bedrooms  bathrooms  surface_total        price currency operation_type  \n",
       "0       NaN        5.0          208.5  500000000.0      COP          Venta  \n",
       "1       NaN        4.0          208.5  235000000.0      COP          Venta  \n",
       "2       NaN        3.0          208.5  240000000.0      COP          Venta  \n",
       "3       NaN        3.0          208.5  800000000.0      COP          Venta  \n",
       "4       NaN        3.0          208.5  330000000.0      COP          Venta  "
      ]
     },
     "execution_count": 422,
     "metadata": {},
     "output_type": "execute_result"
    }
   ],
   "source": [
    "Antioquia = Antioquia.set_index('property_type')\n",
    "Antioquia.rooms.fillna(Filtrobedrooms.to_dict()['bedrooms'],inplace=True)\n",
    "Antioquia.reset_index(inplace=True)\n",
    "Antioquia.head()"
   ]
  },
  {
   "cell_type": "code",
   "execution_count": 423,
   "id": "likely-religion",
   "metadata": {},
   "outputs": [
    {
     "name": "stdout",
     "output_type": "stream",
     "text": [
      "property_type          0\n",
      "lat               134076\n",
      "lon               134075\n",
      "region                 0\n",
      "ciudad             38600\n",
      "barrio            417127\n",
      "rooms                  0\n",
      "bedrooms          398566\n",
      "bathrooms            294\n",
      "surface_total        294\n",
      "price                228\n",
      "currency             248\n",
      "operation_type         0\n",
      "dtype: int64\n"
     ]
    }
   ],
   "source": [
    "print(Antioquia.isna().sum())"
   ]
  },
  {
   "cell_type": "markdown",
   "id": "august-clearing",
   "metadata": {},
   "source": [
    "**Imputacion de valores faltantes para la variable price**"
   ]
  },
  {
   "cell_type": "markdown",
   "id": "opening-residence",
   "metadata": {},
   "source": [
    "Ahora se procederá a realizar este procedimiento para la columna price"
   ]
  },
  {
   "cell_type": "code",
   "execution_count": 424,
   "id": "rising-howard",
   "metadata": {},
   "outputs": [
    {
     "data": {
      "text/plain": [
       "{'price': {'Apartamento': 295000000.0,\n",
       "  'Casa': 390000000.0,\n",
       "  'Depósito': 1400000000.0,\n",
       "  'Finca': 880000000.0,\n",
       "  'Local comercial': 590000000.0,\n",
       "  'Lote': 450000000.0,\n",
       "  'Oficina': 479000000.0,\n",
       "  'Otro': 660000000.0,\n",
       "  'Parqueadero': 39500000.0}}"
      ]
     },
     "execution_count": 424,
     "metadata": {},
     "output_type": "execute_result"
    }
   ],
   "source": [
    "Filtrobedrooms = Antioquia[['price','property_type']].groupby('property_type').agg(pd.Series.median)\n",
    "Filtrobedrooms.to_dict()"
   ]
  },
  {
   "cell_type": "code",
   "execution_count": 425,
   "id": "aware-microwave",
   "metadata": {},
   "outputs": [
    {
     "data": {
      "text/html": [
       "<div>\n",
       "<style scoped>\n",
       "    .dataframe tbody tr th:only-of-type {\n",
       "        vertical-align: middle;\n",
       "    }\n",
       "\n",
       "    .dataframe tbody tr th {\n",
       "        vertical-align: top;\n",
       "    }\n",
       "\n",
       "    .dataframe thead th {\n",
       "        text-align: right;\n",
       "    }\n",
       "</style>\n",
       "<table border=\"1\" class=\"dataframe\">\n",
       "  <thead>\n",
       "    <tr style=\"text-align: right;\">\n",
       "      <th></th>\n",
       "      <th>property_type</th>\n",
       "      <th>lat</th>\n",
       "      <th>lon</th>\n",
       "      <th>region</th>\n",
       "      <th>ciudad</th>\n",
       "      <th>barrio</th>\n",
       "      <th>rooms</th>\n",
       "      <th>bedrooms</th>\n",
       "      <th>bathrooms</th>\n",
       "      <th>surface_total</th>\n",
       "      <th>price</th>\n",
       "      <th>currency</th>\n",
       "      <th>operation_type</th>\n",
       "    </tr>\n",
       "  </thead>\n",
       "  <tbody>\n",
       "    <tr>\n",
       "      <th>0</th>\n",
       "      <td>Casa</td>\n",
       "      <td>3.399714</td>\n",
       "      <td>-76.539912</td>\n",
       "      <td>Valle del Cauca</td>\n",
       "      <td>Cali</td>\n",
       "      <td>NaN</td>\n",
       "      <td>4.0</td>\n",
       "      <td>NaN</td>\n",
       "      <td>5.0</td>\n",
       "      <td>208.5</td>\n",
       "      <td>500000000.0</td>\n",
       "      <td>COP</td>\n",
       "      <td>Venta</td>\n",
       "    </tr>\n",
       "    <tr>\n",
       "      <th>1</th>\n",
       "      <td>Casa</td>\n",
       "      <td>3.382361</td>\n",
       "      <td>-76.541305</td>\n",
       "      <td>Valle del Cauca</td>\n",
       "      <td>Cali</td>\n",
       "      <td>NaN</td>\n",
       "      <td>4.0</td>\n",
       "      <td>NaN</td>\n",
       "      <td>4.0</td>\n",
       "      <td>208.5</td>\n",
       "      <td>235000000.0</td>\n",
       "      <td>COP</td>\n",
       "      <td>Venta</td>\n",
       "    </tr>\n",
       "    <tr>\n",
       "      <th>2</th>\n",
       "      <td>Casa</td>\n",
       "      <td>4.805557</td>\n",
       "      <td>-75.754193</td>\n",
       "      <td>Risaralda</td>\n",
       "      <td>Pereira</td>\n",
       "      <td>NaN</td>\n",
       "      <td>4.0</td>\n",
       "      <td>NaN</td>\n",
       "      <td>3.0</td>\n",
       "      <td>208.5</td>\n",
       "      <td>240000000.0</td>\n",
       "      <td>COP</td>\n",
       "      <td>Venta</td>\n",
       "    </tr>\n",
       "    <tr>\n",
       "      <th>3</th>\n",
       "      <td>Casa</td>\n",
       "      <td>4.797383</td>\n",
       "      <td>-75.723107</td>\n",
       "      <td>Risaralda</td>\n",
       "      <td>Pereira</td>\n",
       "      <td>NaN</td>\n",
       "      <td>4.0</td>\n",
       "      <td>NaN</td>\n",
       "      <td>3.0</td>\n",
       "      <td>208.5</td>\n",
       "      <td>800000000.0</td>\n",
       "      <td>COP</td>\n",
       "      <td>Venta</td>\n",
       "    </tr>\n",
       "    <tr>\n",
       "      <th>4</th>\n",
       "      <td>Casa</td>\n",
       "      <td>3.254355</td>\n",
       "      <td>-76.539370</td>\n",
       "      <td>Valle del Cauca</td>\n",
       "      <td>Jamundí</td>\n",
       "      <td>NaN</td>\n",
       "      <td>4.0</td>\n",
       "      <td>NaN</td>\n",
       "      <td>3.0</td>\n",
       "      <td>208.5</td>\n",
       "      <td>330000000.0</td>\n",
       "      <td>COP</td>\n",
       "      <td>Venta</td>\n",
       "    </tr>\n",
       "  </tbody>\n",
       "</table>\n",
       "</div>"
      ],
      "text/plain": [
       "  property_type       lat        lon           region   ciudad barrio  rooms  \\\n",
       "0          Casa  3.399714 -76.539912  Valle del Cauca     Cali    NaN    4.0   \n",
       "1          Casa  3.382361 -76.541305  Valle del Cauca     Cali    NaN    4.0   \n",
       "2          Casa  4.805557 -75.754193        Risaralda  Pereira    NaN    4.0   \n",
       "3          Casa  4.797383 -75.723107        Risaralda  Pereira    NaN    4.0   \n",
       "4          Casa  3.254355 -76.539370  Valle del Cauca  Jamundí    NaN    4.0   \n",
       "\n",
       "   bedrooms  bathrooms  surface_total        price currency operation_type  \n",
       "0       NaN        5.0          208.5  500000000.0      COP          Venta  \n",
       "1       NaN        4.0          208.5  235000000.0      COP          Venta  \n",
       "2       NaN        3.0          208.5  240000000.0      COP          Venta  \n",
       "3       NaN        3.0          208.5  800000000.0      COP          Venta  \n",
       "4       NaN        3.0          208.5  330000000.0      COP          Venta  "
      ]
     },
     "execution_count": 425,
     "metadata": {},
     "output_type": "execute_result"
    }
   ],
   "source": [
    "Antioquia = Antioquia.set_index('property_type')\n",
    "Antioquia.rooms.fillna(Filtrobedrooms.to_dict()['price'],inplace=True)\n",
    "Antioquia.reset_index(inplace=True)\n",
    "Antioquia.head()"
   ]
  },
  {
   "cell_type": "code",
   "execution_count": 426,
   "id": "banned-gabriel",
   "metadata": {},
   "outputs": [
    {
     "name": "stdout",
     "output_type": "stream",
     "text": [
      "property_type          0\n",
      "lat               134076\n",
      "lon               134075\n",
      "region                 0\n",
      "ciudad             38600\n",
      "barrio            417127\n",
      "rooms                  0\n",
      "bedrooms          398566\n",
      "bathrooms            294\n",
      "surface_total        294\n",
      "price                228\n",
      "currency             248\n",
      "operation_type         0\n",
      "dtype: int64\n"
     ]
    }
   ],
   "source": [
    "print(Antioquia.isna().sum())"
   ]
  },
  {
   "cell_type": "markdown",
   "id": "structural-valuable",
   "metadata": {},
   "source": [
    "**Imputacion de valores faltantes para las variables lat y lon**"
   ]
  },
  {
   "cell_type": "markdown",
   "id": "parallel-allocation",
   "metadata": {},
   "source": [
    "En el caso de las columnas lat y lon este procedimiento se realizara realizando la agrupación por barrio"
   ]
  },
  {
   "cell_type": "code",
   "execution_count": 427,
   "id": "renewable-analysis",
   "metadata": {},
   "outputs": [
    {
     "data": {
      "text/plain": [
       "Antioquia                                  171676\n",
       "Cundinamarca                               126239\n",
       "Valle del Cauca                             77206\n",
       "Atlántico                                   40659\n",
       "Caldas                                      33901\n",
       "Santander                                   25394\n",
       "Risaralda                                   19662\n",
       "Norte de Santander                          13943\n",
       "Quindío                                     10344\n",
       "Bolívar                                      9778\n",
       "Cauca                                        6748\n",
       "Tolima                                       6507\n",
       "Meta                                         5987\n",
       "Magdalena                                    4021\n",
       "Huila                                        2160\n",
       "Nariño                                       2050\n",
       "Boyacá                                       1316\n",
       "Casanare                                     1012\n",
       "Cesar                                         723\n",
       "Córdoba                                       575\n",
       "Sucre                                         235\n",
       "Caquetá                                       118\n",
       "Chocó                                         108\n",
       "La Guajira                                     58\n",
       "San Andrés Providencia y Santa Catalina        52\n",
       "Amazonas                                       44\n",
       "Vichada                                        37\n",
       "Guainía                                        31\n",
       "Arauca                                         25\n",
       "Guaviare                                       17\n",
       "Putumayo                                       10\n",
       "Name: region, dtype: int64"
      ]
     },
     "execution_count": 427,
     "metadata": {},
     "output_type": "execute_result"
    }
   ],
   "source": [
    "Antioquia.region.value_counts()"
   ]
  },
  {
   "cell_type": "code",
   "execution_count": 428,
   "id": "chronic-keeping",
   "metadata": {},
   "outputs": [
    {
     "data": {
      "text/html": [
       "<div>\n",
       "<style scoped>\n",
       "    .dataframe tbody tr th:only-of-type {\n",
       "        vertical-align: middle;\n",
       "    }\n",
       "\n",
       "    .dataframe tbody tr th {\n",
       "        vertical-align: top;\n",
       "    }\n",
       "\n",
       "    .dataframe thead th {\n",
       "        text-align: right;\n",
       "    }\n",
       "</style>\n",
       "<table border=\"1\" class=\"dataframe\">\n",
       "  <thead>\n",
       "    <tr style=\"text-align: right;\">\n",
       "      <th></th>\n",
       "      <th>region</th>\n",
       "      <th>property_type</th>\n",
       "      <th>lat</th>\n",
       "      <th>lon</th>\n",
       "      <th>ciudad</th>\n",
       "      <th>barrio</th>\n",
       "      <th>rooms</th>\n",
       "      <th>bedrooms</th>\n",
       "      <th>bathrooms</th>\n",
       "      <th>surface_total</th>\n",
       "      <th>price</th>\n",
       "      <th>currency</th>\n",
       "      <th>operation_type</th>\n",
       "    </tr>\n",
       "  </thead>\n",
       "  <tbody>\n",
       "    <tr>\n",
       "      <th>0</th>\n",
       "      <td>Valle del Cauca</td>\n",
       "      <td>Casa</td>\n",
       "      <td>3.399714</td>\n",
       "      <td>-76.539912</td>\n",
       "      <td>Cali</td>\n",
       "      <td>NaN</td>\n",
       "      <td>4.0</td>\n",
       "      <td>NaN</td>\n",
       "      <td>5.0</td>\n",
       "      <td>208.5</td>\n",
       "      <td>500000000.0</td>\n",
       "      <td>COP</td>\n",
       "      <td>Venta</td>\n",
       "    </tr>\n",
       "    <tr>\n",
       "      <th>1</th>\n",
       "      <td>Valle del Cauca</td>\n",
       "      <td>Casa</td>\n",
       "      <td>3.382361</td>\n",
       "      <td>-76.541305</td>\n",
       "      <td>Cali</td>\n",
       "      <td>NaN</td>\n",
       "      <td>4.0</td>\n",
       "      <td>NaN</td>\n",
       "      <td>4.0</td>\n",
       "      <td>208.5</td>\n",
       "      <td>235000000.0</td>\n",
       "      <td>COP</td>\n",
       "      <td>Venta</td>\n",
       "    </tr>\n",
       "    <tr>\n",
       "      <th>2</th>\n",
       "      <td>Risaralda</td>\n",
       "      <td>Casa</td>\n",
       "      <td>4.805557</td>\n",
       "      <td>-75.754193</td>\n",
       "      <td>Pereira</td>\n",
       "      <td>NaN</td>\n",
       "      <td>4.0</td>\n",
       "      <td>NaN</td>\n",
       "      <td>3.0</td>\n",
       "      <td>208.5</td>\n",
       "      <td>240000000.0</td>\n",
       "      <td>COP</td>\n",
       "      <td>Venta</td>\n",
       "    </tr>\n",
       "    <tr>\n",
       "      <th>3</th>\n",
       "      <td>Risaralda</td>\n",
       "      <td>Casa</td>\n",
       "      <td>4.797383</td>\n",
       "      <td>-75.723107</td>\n",
       "      <td>Pereira</td>\n",
       "      <td>NaN</td>\n",
       "      <td>4.0</td>\n",
       "      <td>NaN</td>\n",
       "      <td>3.0</td>\n",
       "      <td>208.5</td>\n",
       "      <td>800000000.0</td>\n",
       "      <td>COP</td>\n",
       "      <td>Venta</td>\n",
       "    </tr>\n",
       "    <tr>\n",
       "      <th>4</th>\n",
       "      <td>Valle del Cauca</td>\n",
       "      <td>Casa</td>\n",
       "      <td>3.254355</td>\n",
       "      <td>-76.539370</td>\n",
       "      <td>Jamundí</td>\n",
       "      <td>NaN</td>\n",
       "      <td>4.0</td>\n",
       "      <td>NaN</td>\n",
       "      <td>3.0</td>\n",
       "      <td>208.5</td>\n",
       "      <td>330000000.0</td>\n",
       "      <td>COP</td>\n",
       "      <td>Venta</td>\n",
       "    </tr>\n",
       "  </tbody>\n",
       "</table>\n",
       "</div>"
      ],
      "text/plain": [
       "            region property_type       lat        lon   ciudad barrio  rooms  \\\n",
       "0  Valle del Cauca          Casa  3.399714 -76.539912     Cali    NaN    4.0   \n",
       "1  Valle del Cauca          Casa  3.382361 -76.541305     Cali    NaN    4.0   \n",
       "2        Risaralda          Casa  4.805557 -75.754193  Pereira    NaN    4.0   \n",
       "3        Risaralda          Casa  4.797383 -75.723107  Pereira    NaN    4.0   \n",
       "4  Valle del Cauca          Casa  3.254355 -76.539370  Jamundí    NaN    4.0   \n",
       "\n",
       "   bedrooms  bathrooms  surface_total        price currency operation_type  \n",
       "0       NaN        5.0          208.5  500000000.0      COP          Venta  \n",
       "1       NaN        4.0          208.5  235000000.0      COP          Venta  \n",
       "2       NaN        3.0          208.5  240000000.0      COP          Venta  \n",
       "3       NaN        3.0          208.5  800000000.0      COP          Venta  \n",
       "4       NaN        3.0          208.5  330000000.0      COP          Venta  "
      ]
     },
     "execution_count": 428,
     "metadata": {},
     "output_type": "execute_result"
    }
   ],
   "source": [
    "Filtro_lon = Antioquia[['lon','region']].groupby('region').agg(pd.Series.mean)\n",
    "Filtro_lat = Antioquia[['lat','region']].groupby('region').agg(pd.Series.mean)\n",
    "\n",
    "Antioquia = Antioquia.set_index('region')\n",
    "Antioquia.lon.fillna(Filtro_lon.to_dict()['lon'],inplace=True)\n",
    "Antioquia.lat.fillna(Filtro_lat.to_dict()['lat'],inplace=True)\n",
    "Antioquia.reset_index(inplace=True)\n",
    "Antioquia.head()"
   ]
  },
  {
   "cell_type": "markdown",
   "id": "tutorial-gospel",
   "metadata": {},
   "source": [
    "Una vez realizado el proceso de imputación para todos nuestros datos faltantes procedemos a realizar una nueva validación para asegurarnos que todos los datos na efectivamente estén en cero."
   ]
  },
  {
   "cell_type": "code",
   "execution_count": 429,
   "id": "apparent-anime",
   "metadata": {},
   "outputs": [
    {
     "name": "stdout",
     "output_type": "stream",
     "text": [
      "region                 0\n",
      "property_type          0\n",
      "lat                    0\n",
      "lon                    0\n",
      "ciudad             38600\n",
      "barrio            417127\n",
      "rooms                  0\n",
      "bedrooms          398566\n",
      "bathrooms            294\n",
      "surface_total        294\n",
      "price                228\n",
      "currency             248\n",
      "operation_type         0\n",
      "dtype: int64\n"
     ]
    }
   ],
   "source": [
    "print(Antioquia.isna().sum())"
   ]
  },
  {
   "cell_type": "markdown",
   "id": "normal-america",
   "metadata": {},
   "source": [
    "**Validacion de outliers**"
   ]
  },
  {
   "cell_type": "markdown",
   "id": "noticed-cartoon",
   "metadata": {},
   "source": [
    "Para la validación de outliers de las variables bathrooms, bedrooms y rooms procedemos a realizar una serie de filtros que nos permitirán visualizar mejor como se están distribuyendo los datos de acuerdo a cada tipo de propiedad; adicionalmente se procederá a generar toda la información referente al rango intercuartílico y a los bigotes superiores e inferiores con el fin de determinar/analizar la distribución de nuestra información."
   ]
  },
  {
   "cell_type": "markdown",
   "id": "apart-ecology",
   "metadata": {},
   "source": [
    "**Rooms**"
   ]
  },
  {
   "cell_type": "code",
   "execution_count": 430,
   "id": "valuable-marshall",
   "metadata": {},
   "outputs": [
    {
     "name": "stdout",
     "output_type": "stream",
     "text": [
      "Primer cuartil: 3.0\n",
      "Tercer cuartil: 4.0\n",
      "Rango Intercuartil: 1.0\n",
      "Mediana: 3.0\n",
      "Valor minimo: 1.0\n",
      "Valor maximo: 40.0\n"
     ]
    }
   ],
   "source": [
    "#Procedemos a extraer la información referente a los cuartiles, la mediana, valores mínimos y valores máximos: \n",
    "\n",
    "Q1 = Antioquia['rooms'].quantile(0.25)\n",
    "print('Primer cuartil:',Q1)\n",
    "\n",
    "Q3 = Antioquia['rooms'].quantile(0.75)\n",
    "print('Tercer cuartil:',Q3)\n",
    "\n",
    "IQR = Q3 - Q1\n",
    "print('Rango Intercuartil:', IQR)\n",
    "\n",
    "Mediana = Antioquia['rooms'].median()\n",
    "print('Mediana:',Mediana)\n",
    "\n",
    "Minimo = Antioquia['rooms'].min()\n",
    "print('Valor minimo:',Minimo)\n",
    "\n",
    "Maximo = Antioquia['rooms'].max()\n",
    "print('Valor maximo:',Maximo)"
   ]
  },
  {
   "cell_type": "code",
   "execution_count": 431,
   "id": "coordinate-singles",
   "metadata": {},
   "outputs": [
    {
     "name": "stdout",
     "output_type": "stream",
     "text": [
      "BI_Calculado \n",
      " 1.5\n",
      "BS_Calculado \n",
      " 5.5\n"
     ]
    }
   ],
   "source": [
    "# Calculo del valor los bigotes inferior y superior del boxplot\n",
    "\n",
    "BI_Calculado = (Q1 - 1.5 * IQR)\n",
    "print('BI_Calculado \\n', BI_Calculado) #\\n sirve para insertar un salto de linea\n",
    "\n",
    "BS_Calculado = (Q3 + 1.5 * IQR)\n",
    "print('BS_Calculado \\n', BS_Calculado)"
   ]
  },
  {
   "cell_type": "markdown",
   "id": "informal-aggregate",
   "metadata": {},
   "source": [
    "**Bedrooms**"
   ]
  },
  {
   "cell_type": "code",
   "execution_count": 432,
   "id": "characteristic-tuesday",
   "metadata": {},
   "outputs": [
    {
     "name": "stdout",
     "output_type": "stream",
     "text": [
      "Primer cuartil: 3.0\n",
      "Tercer cuartil: 4.0\n",
      "Rango Intercuartil: 1.0\n",
      "Mediana: 3.0\n",
      "Valor minimo: 1.0\n",
      "Valor maximo: 40.0\n"
     ]
    }
   ],
   "source": [
    "Q1 = Antioquia['rooms'].quantile(0.25)\n",
    "print('Primer cuartil:',Q1)\n",
    "\n",
    "Q3 = Antioquia['rooms'].quantile(0.75)\n",
    "print('Tercer cuartil:',Q3)\n",
    "\n",
    "IQR = Q3 - Q1\n",
    "print('Rango Intercuartil:', IQR)\n",
    "\n",
    "Mediana = Antioquia['rooms'].median()\n",
    "print('Mediana:',Mediana)\n",
    "\n",
    "Minimo = Antioquia['rooms'].min()\n",
    "print('Valor minimo:',Minimo)\n",
    "\n",
    "Maximo = Antioquia['rooms'].max()\n",
    "print('Valor maximo:',Maximo)"
   ]
  },
  {
   "cell_type": "code",
   "execution_count": 433,
   "id": "raising-numbers",
   "metadata": {},
   "outputs": [
    {
     "name": "stdout",
     "output_type": "stream",
     "text": [
      "BI_Calculado \n",
      " 1.5\n",
      "BS_Calculado \n",
      " 5.5\n"
     ]
    }
   ],
   "source": [
    "BI_Calculado = (Q1 - 1.5 * IQR)\n",
    "print('BI_Calculado \\n', BI_Calculado) \n",
    "\n",
    "BS_Calculado = (Q3 + 1.5 * IQR)\n",
    "print('BS_Calculado \\n', BS_Calculado)"
   ]
  },
  {
   "cell_type": "markdown",
   "id": "loved-testing",
   "metadata": {},
   "source": [
    "**Bathrooms**"
   ]
  },
  {
   "cell_type": "code",
   "execution_count": 434,
   "id": "incorrect-limit",
   "metadata": {},
   "outputs": [
    {
     "name": "stdout",
     "output_type": "stream",
     "text": [
      "Primer cuartil: 2.0\n",
      "Tercer cuartil: 3.0\n",
      "Rango Intercuartil: 1.0\n",
      "Mediana: 2.0\n",
      "Valor minimo: 1.0\n",
      "Valor maximo: 20.0\n"
     ]
    }
   ],
   "source": [
    "Q1 = Antioquia['bathrooms'].quantile(0.25)\n",
    "print('Primer cuartil:',Q1)\n",
    "\n",
    "Q3 = Antioquia['bathrooms'].quantile(0.75)\n",
    "print('Tercer cuartil:',Q3)\n",
    "\n",
    "IQR = Q3 - Q1\n",
    "print('Rango Intercuartil:', IQR)\n",
    "\n",
    "Mediana = Antioquia['bathrooms'].median()\n",
    "print('Mediana:',Mediana)\n",
    "\n",
    "Minimo = Antioquia['bathrooms'].min()\n",
    "print('Valor minimo:',Minimo)\n",
    "\n",
    "Maximo = Antioquia['bathrooms'].max()\n",
    "print('Valor maximo:',Maximo)"
   ]
  },
  {
   "cell_type": "code",
   "execution_count": 435,
   "id": "secure-issue",
   "metadata": {},
   "outputs": [
    {
     "name": "stdout",
     "output_type": "stream",
     "text": [
      "BI_Calculado \n",
      " 0.5\n",
      "BS_Calculado \n",
      " 4.5\n"
     ]
    }
   ],
   "source": [
    "BI_Calculado = (Q1 - 1.5 * IQR)\n",
    "print('BI_Calculado \\n', BI_Calculado) \n",
    "\n",
    "BS_Calculado = (Q3 + 1.5 * IQR)\n",
    "print('BS_Calculado \\n', BS_Calculado)"
   ]
  },
  {
   "cell_type": "markdown",
   "id": "alone-prerequisite",
   "metadata": {},
   "source": [
    "En este punto es necesario filtrar la información e intentar quedar sin nas para poder convertir las variables surface total y price en int"
   ]
  },
  {
   "cell_type": "code",
   "execution_count": 436,
   "id": "loose-paraguay",
   "metadata": {},
   "outputs": [
    {
     "data": {
      "text/plain": [
       "'Para rooms, bedrooms y bathrooms se agrupo teniendo en cuenta los bigotes superiores e inferiores con el fin de abarcar y dejar en el dataset toda \\nla información que no es considerada como outlier; sin embargo el filtro inicia desde cero ya que no sería lógico/relevante para este caso tomar \\nen cuenta valores negativos.\\n\\nPara los casos de price y surface_total se tuvo en cuenta valores mínimos valores máximos y en donde se centra la mayoría de la información.'"
      ]
     },
     "execution_count": 436,
     "metadata": {},
     "output_type": "execute_result"
    }
   ],
   "source": [
    "new_antioquia =pd.DataFrame()\n",
    "\n",
    "new_antioquia = Antioquia[(Antioquia['rooms'] <= 6)&(Antioquia['rooms'] >= 0)]\n",
    "new_antioquia = new_antioquia[(new_antioquia['bedrooms'] <= 5)&(new_antioquia['surface_total'] >= 0)]\n",
    "new_antioquia = new_antioquia[(new_antioquia['bathrooms'] <= 5)&(new_antioquia['bathrooms'] >= 0)]\n",
    "\n",
    "\n",
    "'''Para rooms, bedrooms y bathrooms se agrupo teniendo en cuenta los bigotes superiores e inferiores con el fin de abarcar y dejar en el dataset toda \n",
    "la información que no es considerada como outlier; sin embargo el filtro inicia desde cero ya que no sería lógico/relevante para este caso tomar \n",
    "en cuenta valores negativos.\n",
    "\n",
    "Para los casos de price y surface_total se tuvo en cuenta valores mínimos valores máximos y en donde se centra la mayoría de la información.'''"
   ]
  },
  {
   "cell_type": "code",
   "execution_count": 437,
   "id": "prescription-egypt",
   "metadata": {},
   "outputs": [
    {
     "name": "stdout",
     "output_type": "stream",
     "text": [
      "region                0\n",
      "property_type         0\n",
      "lat                   0\n",
      "lon                   0\n",
      "ciudad            22705\n",
      "barrio            90310\n",
      "rooms                 0\n",
      "bedrooms              0\n",
      "bathrooms             0\n",
      "surface_total         0\n",
      "price               129\n",
      "currency            142\n",
      "operation_type        0\n",
      "dtype: int64\n"
     ]
    }
   ],
   "source": [
    "print(new_antioquia.isna().sum())"
   ]
  },
  {
   "cell_type": "markdown",
   "id": "direct-triumph",
   "metadata": {},
   "source": [
    "Ya en este punto hemos pulido lo mejor posible la información del dataset sin embargo y teniendo en cuenta que ahora sigue la validación de surface_total y price procedemos a ayudarnos de la función dropna con el fin de poder continuar con el proceso."
   ]
  },
  {
   "cell_type": "code",
   "execution_count": 438,
   "id": "quality-american",
   "metadata": {},
   "outputs": [],
   "source": [
    "new_antioquia = new_antioquia.dropna()"
   ]
  },
  {
   "cell_type": "markdown",
   "id": "latter-hurricane",
   "metadata": {},
   "source": [
    "**surface_total**"
   ]
  },
  {
   "cell_type": "code",
   "execution_count": 439,
   "id": "buried-religious",
   "metadata": {},
   "outputs": [
    {
     "name": "stdout",
     "output_type": "stream",
     "text": [
      "mean\n",
      "150.72113673750295\n",
      "std \n",
      "528.3350674543567\n",
      "75% \n",
      "117.0\n",
      "50% \n",
      "90.0\n",
      "min \n",
      "2\n",
      "max \n",
      "100000\n"
     ]
    }
   ],
   "source": [
    "# Promedio\n",
    "print('mean') \n",
    "print(new_antioquia.surface_total.astype(int).mean())\n",
    "\n",
    "# Desviación estándar\n",
    "print('std ')\n",
    "print(new_antioquia.surface_total.astype(int).std(ddof = 1))\n",
    "\n",
    "#Percentil, cuartil, minimo y maximo\n",
    "\n",
    "print('75% ') \n",
    "print(np.percentile(new_antioquia.surface_total.astype(int),75))\n",
    "\n",
    "print('50% ') \n",
    "print(np.quantile(new_antioquia.surface_total.astype(int),0.5))\n",
    "\n",
    "print('min ')\n",
    "print(np.min(new_antioquia.surface_total.astype(int)))\n",
    "\n",
    "print('max ')\n",
    "print(np.max(new_antioquia.surface_total.astype(int)))"
   ]
  },
  {
   "cell_type": "code",
   "execution_count": 440,
   "id": "foreign-transfer",
   "metadata": {},
   "outputs": [],
   "source": [
    "new_antioquia = new_antioquia[(new_antioquia['surface_total'] <= 1000)&(new_antioquia['surface_total'] >= 0)]"
   ]
  },
  {
   "cell_type": "code",
   "execution_count": 441,
   "id": "tight-perspective",
   "metadata": {},
   "outputs": [
    {
     "name": "stdout",
     "output_type": "stream",
     "text": [
      "region            0\n",
      "property_type     0\n",
      "lat               0\n",
      "lon               0\n",
      "ciudad            0\n",
      "barrio            0\n",
      "rooms             0\n",
      "bedrooms          0\n",
      "bathrooms         0\n",
      "surface_total     0\n",
      "price             0\n",
      "currency          0\n",
      "operation_type    0\n",
      "dtype: int64\n"
     ]
    }
   ],
   "source": [
    "print(new_antioquia.isna().sum())"
   ]
  },
  {
   "cell_type": "markdown",
   "id": "quiet-twist",
   "metadata": {},
   "source": [
    "**Price**"
   ]
  },
  {
   "cell_type": "code",
   "execution_count": 442,
   "id": "authorized-princess",
   "metadata": {},
   "outputs": [
    {
     "name": "stdout",
     "output_type": "stream",
     "text": [
      "mean \n",
      "451090204.9527324\n",
      "std \n",
      "730307430.547744\n",
      "75% \n",
      "750000000.0\n",
      "50% \n",
      "438000000.0\n",
      "min \n",
      "-2147483648\n",
      "max \n",
      "2145000000\n"
     ]
    }
   ],
   "source": [
    "# Promedio\n",
    "print('mean ') \n",
    "print(new_antioquia.price.astype(int).mean())\n",
    "\n",
    "# Desviación estándar\n",
    "print('std ')\n",
    "print(new_antioquia.price.astype(int).std(ddof = 1))\n",
    "\n",
    "#Percentil, cuartil, minimo y maximo\n",
    "\n",
    "print('75% ') \n",
    "print(np.percentile(new_antioquia.price.astype(int),75))\n",
    "\n",
    "print('50% ') \n",
    "print(np.quantile(new_antioquia.price.astype(int),0.5))\n",
    "\n",
    "print('min ')\n",
    "print(np.min(new_antioquia.price.astype(int)))\n",
    "\n",
    "print('max ')\n",
    "print(np.max(new_antioquia.price.astype(int)))"
   ]
  },
  {
   "cell_type": "code",
   "execution_count": 443,
   "id": "diagnostic-pierre",
   "metadata": {},
   "outputs": [],
   "source": [
    "new_antioquia = new_antioquia[(new_antioquia['price'] <= 900000000)&(new_antioquia['price'] >= 0)]"
   ]
  },
  {
   "cell_type": "code",
   "execution_count": 444,
   "id": "floating-floor",
   "metadata": {},
   "outputs": [
    {
     "name": "stdout",
     "output_type": "stream",
     "text": [
      "region            0\n",
      "property_type     0\n",
      "lat               0\n",
      "lon               0\n",
      "ciudad            0\n",
      "barrio            0\n",
      "rooms             0\n",
      "bedrooms          0\n",
      "bathrooms         0\n",
      "surface_total     0\n",
      "price             0\n",
      "currency          0\n",
      "operation_type    0\n",
      "dtype: int64\n"
     ]
    }
   ],
   "source": [
    "print(new_antioquia.isna().sum())"
   ]
  },
  {
   "cell_type": "markdown",
   "id": "partial-adult",
   "metadata": {},
   "source": [
    "**NUEVAS PREGUNTAS A RESPONDER**"
   ]
  },
  {
   "cell_type": "markdown",
   "id": "split-swing",
   "metadata": {},
   "source": [
    "Una vez contamos con un dataset más pulido para trabajar procedemos a plantear nuevas preguntas a responder y que nos permitirán indagar un poco más sobre el mismo."
   ]
  },
  {
   "cell_type": "markdown",
   "id": "funky-psychiatry",
   "metadata": {},
   "source": [
    "***¿Cual es el precio promedio segun el tipo de propiedad?***"
   ]
  },
  {
   "cell_type": "code",
   "execution_count": 445,
   "id": "great-republican",
   "metadata": {},
   "outputs": [
    {
     "data": {
      "image/png": "[encoded data removed]",
      "text/plain": [
       "<Figure size 1008x360 with 1 Axes>"
      ]
     },
     "metadata": {
      "needs_background": "light"
     },
     "output_type": "display_data"
    }
   ],
   "source": [
    "TipoDePropiedad = new_antioquia.groupby('property_type').mean()['price'].sort_values(ascending=False)\n",
    "graph = TipoDePropiedad.plot.barh(figsize=(14,5),fontsize=15, color='r', alpha=0.6)\n",
    "graph.set_title(\"Precio promedio segun el tipo de propiedad\", fontsize=20)\n",
    "graph.set_ylabel(\"Tipo de propiedad\", fontsize=18)\n",
    "graph.set_xlabel(\"precio\", fontsize=18)\n",
    "plt.show()"
   ]
  },
  {
   "cell_type": "markdown",
   "id": "absolute-requirement",
   "metadata": {},
   "source": [
    "En este caso podemos evidenciar que el precio promedio de los tipos de propiedad de Casa y Oficina están más altos aunque no hay una diferencia tan significativa respecto a Apartamento y Local comercial.\n",
    "\n",
    "Si fuera posible hacer una recomendación hacia properati seria significativo explorar y definir la variable Otro, ya que aunque es la mayor al entrar en detalle e identificar si estas variable corresponda a una de las otras podríamos tener un mejor panorama de cuál es el precio promedio más alto."
   ]
  },
  {
   "cell_type": "markdown",
   "id": "developed-basis",
   "metadata": {},
   "source": [
    "***¿Como esta distribuido el tipo de operacion del dataset?***"
   ]
  },
  {
   "cell_type": "markdown",
   "id": "broad-richardson",
   "metadata": {},
   "source": [
    "Como se evidencio al inicio hay en venta, arriendo y arriendo temporal sin embargo teniendo en cuenta lo mencionado previamente nos enfocaremos en venta."
   ]
  },
  {
   "cell_type": "markdown",
   "id": "corporate-saver",
   "metadata": {},
   "source": [
    "***¿Cual es la cantidad de cuartos y el precio con base a los que posee la propiedad***"
   ]
  },
  {
   "cell_type": "code",
   "execution_count": 446,
   "id": "characteristic-marina",
   "metadata": {},
   "outputs": [
    {
     "data": {
      "image/png": "[encoded data removed]",
      "text/plain": [
       "<Figure size 360x360 with 1 Axes>"
      ]
     },
     "metadata": {},
     "output_type": "display_data"
    }
   ],
   "source": [
    "properati_room = new_antioquia.loc[new_antioquia.rooms < 6,['rooms','price']]\n",
    "grouped_rooms = properati_room.groupby('rooms').size().plot(kind='pie', figsize=(5,5),cmap='Accent',fontsize=11)\n",
    "plt.title('Cantidad de cuartos', fontsize = 18)\n",
    "plt.ylabel('')\n",
    "plt.show();"
   ]
  },
  {
   "cell_type": "code",
   "execution_count": 447,
   "id": "thermal-indonesian",
   "metadata": {},
   "outputs": [
    {
     "data": {
      "image/png": "[encoded data removed]",
      "text/plain": [
       "<Figure size 1008x288 with 1 Axes>"
      ]
     },
     "metadata": {
      "needs_background": "light"
     },
     "output_type": "display_data"
    }
   ],
   "source": [
    "properati_room.groupby('rooms').mean()['price'].plot(figsize=(14,4),fontsize=11);\n",
    "plt.title('Precio en relacion a la cantidad de cuartos que posee la propiedad', fontsize= 20);\n",
    "plt.xlabel('Cuartos', fontsize = 14);\n",
    "plt.ylabel('Precio', fontsize=14);\n",
    "plt.show();"
   ]
  },
  {
   "cell_type": "markdown",
   "id": "great-venue",
   "metadata": {},
   "source": [
    "Observamos que a partir de tres cuartos hay un incremento notable en el precio; Estas preguntas y análisis nos permiten identificar recomendaciones complementarias que aunque incluso no incluyamos ciertas variables dentro de los modelos de machine learning nos permiten tener un panorama completo del mismo."
   ]
  },
  {
   "cell_type": "code",
   "execution_count": 448,
   "id": "polish-bottle",
   "metadata": {},
   "outputs": [
    {
     "name": "stdout",
     "output_type": "stream",
     "text": [
      "(45745, 13)\n"
     ]
    },
    {
     "data": {
      "text/html": [
       "<div>\n",
       "<style scoped>\n",
       "    .dataframe tbody tr th:only-of-type {\n",
       "        vertical-align: middle;\n",
       "    }\n",
       "\n",
       "    .dataframe tbody tr th {\n",
       "        vertical-align: top;\n",
       "    }\n",
       "\n",
       "    .dataframe thead th {\n",
       "        text-align: right;\n",
       "    }\n",
       "</style>\n",
       "<table border=\"1\" class=\"dataframe\">\n",
       "  <thead>\n",
       "    <tr style=\"text-align: right;\">\n",
       "      <th></th>\n",
       "      <th>region</th>\n",
       "      <th>property_type</th>\n",
       "      <th>lat</th>\n",
       "      <th>lon</th>\n",
       "      <th>ciudad</th>\n",
       "      <th>barrio</th>\n",
       "      <th>rooms</th>\n",
       "      <th>bedrooms</th>\n",
       "      <th>bathrooms</th>\n",
       "      <th>surface_total</th>\n",
       "      <th>price</th>\n",
       "      <th>currency</th>\n",
       "      <th>operation_type</th>\n",
       "    </tr>\n",
       "  </thead>\n",
       "  <tbody>\n",
       "    <tr>\n",
       "      <th>18</th>\n",
       "      <td>Cundinamarca</td>\n",
       "      <td>Casa</td>\n",
       "      <td>4.622658</td>\n",
       "      <td>-74.091189</td>\n",
       "      <td>Bogotá D.C</td>\n",
       "      <td>Zona Centro</td>\n",
       "      <td>3.0</td>\n",
       "      <td>3.0</td>\n",
       "      <td>3.0</td>\n",
       "      <td>208.5</td>\n",
       "      <td>99000000.0</td>\n",
       "      <td>COP</td>\n",
       "      <td>Venta</td>\n",
       "    </tr>\n",
       "    <tr>\n",
       "      <th>44</th>\n",
       "      <td>Cundinamarca</td>\n",
       "      <td>Oficina</td>\n",
       "      <td>4.704450</td>\n",
       "      <td>-74.040707</td>\n",
       "      <td>Bogotá D.C</td>\n",
       "      <td>Zona Norte</td>\n",
       "      <td>1.0</td>\n",
       "      <td>0.0</td>\n",
       "      <td>1.0</td>\n",
       "      <td>71.0</td>\n",
       "      <td>259200000.0</td>\n",
       "      <td>COP</td>\n",
       "      <td>Venta</td>\n",
       "    </tr>\n",
       "    <tr>\n",
       "      <th>76</th>\n",
       "      <td>Cundinamarca</td>\n",
       "      <td>Apartamento</td>\n",
       "      <td>4.639504</td>\n",
       "      <td>-74.140145</td>\n",
       "      <td>Bogotá D.C</td>\n",
       "      <td>Zona Suroccidental</td>\n",
       "      <td>3.0</td>\n",
       "      <td>2.0</td>\n",
       "      <td>2.0</td>\n",
       "      <td>90.0</td>\n",
       "      <td>227600000.0</td>\n",
       "      <td>COP</td>\n",
       "      <td>Venta</td>\n",
       "    </tr>\n",
       "    <tr>\n",
       "      <th>77</th>\n",
       "      <td>Cundinamarca</td>\n",
       "      <td>Apartamento</td>\n",
       "      <td>4.650855</td>\n",
       "      <td>-74.146378</td>\n",
       "      <td>Bogotá D.C</td>\n",
       "      <td>Zona Suroccidental</td>\n",
       "      <td>3.0</td>\n",
       "      <td>3.0</td>\n",
       "      <td>2.0</td>\n",
       "      <td>90.0</td>\n",
       "      <td>301082000.0</td>\n",
       "      <td>COP</td>\n",
       "      <td>Venta</td>\n",
       "    </tr>\n",
       "    <tr>\n",
       "      <th>78</th>\n",
       "      <td>Cundinamarca</td>\n",
       "      <td>Apartamento</td>\n",
       "      <td>4.652207</td>\n",
       "      <td>-74.139720</td>\n",
       "      <td>Bogotá D.C</td>\n",
       "      <td>Zona Suroccidental</td>\n",
       "      <td>3.0</td>\n",
       "      <td>2.0</td>\n",
       "      <td>2.0</td>\n",
       "      <td>90.0</td>\n",
       "      <td>255700000.0</td>\n",
       "      <td>COP</td>\n",
       "      <td>Venta</td>\n",
       "    </tr>\n",
       "  </tbody>\n",
       "</table>\n",
       "</div>"
      ],
      "text/plain": [
       "          region property_type       lat        lon      ciudad  \\\n",
       "18  Cundinamarca          Casa  4.622658 -74.091189  Bogotá D.C   \n",
       "44  Cundinamarca       Oficina  4.704450 -74.040707  Bogotá D.C   \n",
       "76  Cundinamarca   Apartamento  4.639504 -74.140145  Bogotá D.C   \n",
       "77  Cundinamarca   Apartamento  4.650855 -74.146378  Bogotá D.C   \n",
       "78  Cundinamarca   Apartamento  4.652207 -74.139720  Bogotá D.C   \n",
       "\n",
       "                barrio  rooms  bedrooms  bathrooms  surface_total  \\\n",
       "18         Zona Centro    3.0       3.0        3.0          208.5   \n",
       "44          Zona Norte    1.0       0.0        1.0           71.0   \n",
       "76  Zona Suroccidental    3.0       2.0        2.0           90.0   \n",
       "77  Zona Suroccidental    3.0       3.0        2.0           90.0   \n",
       "78  Zona Suroccidental    3.0       2.0        2.0           90.0   \n",
       "\n",
       "          price currency operation_type  \n",
       "18   99000000.0      COP          Venta  \n",
       "44  259200000.0      COP          Venta  \n",
       "76  227600000.0      COP          Venta  \n",
       "77  301082000.0      COP          Venta  \n",
       "78  255700000.0      COP          Venta  "
      ]
     },
     "execution_count": 448,
     "metadata": {},
     "output_type": "execute_result"
    }
   ],
   "source": [
    "print(new_antioquia.shape)\n",
    "new_antioquia.head()"
   ]
  },
  {
   "cell_type": "markdown",
   "id": "missing-conversation",
   "metadata": {},
   "source": [
    "**MACHINE LEARNING**"
   ]
  },
  {
   "cell_type": "markdown",
   "id": "informed-destination",
   "metadata": {},
   "source": [
    "Luego de todos los análisis realizados procedemos a plantear nuestro dataset definitivo con el que se generaran los modelos de machine learning."
   ]
  },
  {
   "cell_type": "code",
   "execution_count": 449,
   "id": "medium-captain",
   "metadata": {},
   "outputs": [],
   "source": [
    "new_antioquia1 =pd.DataFrame()\n",
    "\n",
    "new_antioquia1 = new_antioquia.drop(['region'],axis = 1) \n",
    "new_antioquia1 = new_antioquia1.drop(['property_type'],axis = 1) \n",
    "new_antioquia1 = new_antioquia1.drop(['ciudad'],axis = 1) \n",
    "new_antioquia1 = new_antioquia1.drop(['barrio'],axis = 1) \n",
    "new_antioquia1 = new_antioquia1.drop(['currency'],axis = 1)\n",
    "new_antioquia1 = new_antioquia1.drop(['operation_type'],axis = 1) "
   ]
  },
  {
   "cell_type": "code",
   "execution_count": 450,
   "id": "perceived-psychiatry",
   "metadata": {},
   "outputs": [
    {
     "name": "stdout",
     "output_type": "stream",
     "text": [
      "(45745, 7)\n"
     ]
    },
    {
     "data": {
      "text/html": [
       "<div>\n",
       "<style scoped>\n",
       "    .dataframe tbody tr th:only-of-type {\n",
       "        vertical-align: middle;\n",
       "    }\n",
       "\n",
       "    .dataframe tbody tr th {\n",
       "        vertical-align: top;\n",
       "    }\n",
       "\n",
       "    .dataframe thead th {\n",
       "        text-align: right;\n",
       "    }\n",
       "</style>\n",
       "<table border=\"1\" class=\"dataframe\">\n",
       "  <thead>\n",
       "    <tr style=\"text-align: right;\">\n",
       "      <th></th>\n",
       "      <th>lat</th>\n",
       "      <th>lon</th>\n",
       "      <th>rooms</th>\n",
       "      <th>bedrooms</th>\n",
       "      <th>bathrooms</th>\n",
       "      <th>surface_total</th>\n",
       "      <th>price</th>\n",
       "    </tr>\n",
       "  </thead>\n",
       "  <tbody>\n",
       "    <tr>\n",
       "      <th>18</th>\n",
       "      <td>4.622658</td>\n",
       "      <td>-74.091189</td>\n",
       "      <td>3.0</td>\n",
       "      <td>3.0</td>\n",
       "      <td>3.0</td>\n",
       "      <td>208.5</td>\n",
       "      <td>99000000.0</td>\n",
       "    </tr>\n",
       "    <tr>\n",
       "      <th>44</th>\n",
       "      <td>4.704450</td>\n",
       "      <td>-74.040707</td>\n",
       "      <td>1.0</td>\n",
       "      <td>0.0</td>\n",
       "      <td>1.0</td>\n",
       "      <td>71.0</td>\n",
       "      <td>259200000.0</td>\n",
       "    </tr>\n",
       "    <tr>\n",
       "      <th>76</th>\n",
       "      <td>4.639504</td>\n",
       "      <td>-74.140145</td>\n",
       "      <td>3.0</td>\n",
       "      <td>2.0</td>\n",
       "      <td>2.0</td>\n",
       "      <td>90.0</td>\n",
       "      <td>227600000.0</td>\n",
       "    </tr>\n",
       "    <tr>\n",
       "      <th>77</th>\n",
       "      <td>4.650855</td>\n",
       "      <td>-74.146378</td>\n",
       "      <td>3.0</td>\n",
       "      <td>3.0</td>\n",
       "      <td>2.0</td>\n",
       "      <td>90.0</td>\n",
       "      <td>301082000.0</td>\n",
       "    </tr>\n",
       "    <tr>\n",
       "      <th>78</th>\n",
       "      <td>4.652207</td>\n",
       "      <td>-74.139720</td>\n",
       "      <td>3.0</td>\n",
       "      <td>2.0</td>\n",
       "      <td>2.0</td>\n",
       "      <td>90.0</td>\n",
       "      <td>255700000.0</td>\n",
       "    </tr>\n",
       "  </tbody>\n",
       "</table>\n",
       "</div>"
      ],
      "text/plain": [
       "         lat        lon  rooms  bedrooms  bathrooms  surface_total  \\\n",
       "18  4.622658 -74.091189    3.0       3.0        3.0          208.5   \n",
       "44  4.704450 -74.040707    1.0       0.0        1.0           71.0   \n",
       "76  4.639504 -74.140145    3.0       2.0        2.0           90.0   \n",
       "77  4.650855 -74.146378    3.0       3.0        2.0           90.0   \n",
       "78  4.652207 -74.139720    3.0       2.0        2.0           90.0   \n",
       "\n",
       "          price  \n",
       "18   99000000.0  \n",
       "44  259200000.0  \n",
       "76  227600000.0  \n",
       "77  301082000.0  \n",
       "78  255700000.0  "
      ]
     },
     "execution_count": 450,
     "metadata": {},
     "output_type": "execute_result"
    }
   ],
   "source": [
    "print(new_antioquia1.shape)\n",
    "new_antioquia1.head()"
   ]
  },
  {
   "cell_type": "markdown",
   "id": "deadly-recorder",
   "metadata": {},
   "source": [
    "**ARBOL DE DECISION**"
   ]
  },
  {
   "cell_type": "code",
   "execution_count": 451,
   "id": "global-polymer",
   "metadata": {},
   "outputs": [],
   "source": [
    "from sklearn.tree import DecisionTreeRegressor\n",
    "from sklearn.linear_model import LinearRegression\n",
    "from sklearn.model_selection import train_test_split\n",
    "\n",
    "#Inicialmente se dejan todas las variables para con ello determinar cuáles de ellas son las más importantes.\n",
    "x = new_antioquia1.drop(['price'],axis = 1) \n",
    "y = new_antioquia1['price']\n",
    "\n",
    "#Se procede a realizar la respectiva distribución de train y test para nuestros datos. Para todos los modelos se establecerá un random state de 42\n",
    "\n",
    "x_train,x_test,y_train,y_test = train_test_split(x,y,random_state=42)"
   ]
  },
  {
   "cell_type": "markdown",
   "id": "outside-detail",
   "metadata": {},
   "source": [
    "Se define la variable de árbol de decisión y se procede a entrenar el modelo."
   ]
  },
  {
   "cell_type": "code",
   "execution_count": 452,
   "id": "adjacent-kitty",
   "metadata": {},
   "outputs": [],
   "source": [
    "arbol = DecisionTreeRegressor()"
   ]
  },
  {
   "cell_type": "code",
   "execution_count": 453,
   "id": "advanced-robert",
   "metadata": {},
   "outputs": [
    {
     "data": {
      "text/plain": [
       "DecisionTreeRegressor()"
      ]
     },
     "execution_count": 453,
     "metadata": {},
     "output_type": "execute_result"
    }
   ],
   "source": [
    "arbol.fit(x_train,y_train)"
   ]
  },
  {
   "cell_type": "markdown",
   "id": "ethical-patio",
   "metadata": {},
   "source": [
    "Ahora se procede a determinar sus score tanto en las variables de train como de test."
   ]
  },
  {
   "cell_type": "code",
   "execution_count": 454,
   "id": "surface-island",
   "metadata": {},
   "outputs": [
    {
     "data": {
      "text/plain": [
       "0.5426909548728832"
      ]
     },
     "execution_count": 454,
     "metadata": {},
     "output_type": "execute_result"
    }
   ],
   "source": [
    "arbol.score(x_test,y_test)"
   ]
  },
  {
   "cell_type": "code",
   "execution_count": 455,
   "id": "greek-postcard",
   "metadata": {},
   "outputs": [
    {
     "data": {
      "text/plain": [
       "0.9543465898190033"
      ]
     },
     "execution_count": 455,
     "metadata": {},
     "output_type": "execute_result"
    }
   ],
   "source": [
    "arbol.score(x_train,y_train)"
   ]
  },
  {
   "cell_type": "markdown",
   "id": "legitimate-times",
   "metadata": {},
   "source": [
    "Procedemos a analizar cuáles son las características más importantes para el modelo a la hora de realizar la predicción."
   ]
  },
  {
   "cell_type": "code",
   "execution_count": 456,
   "id": "oriented-steam",
   "metadata": {},
   "outputs": [
    {
     "name": "stderr",
     "output_type": "stream",
     "text": [
      "D:\\Miniconda\\lib\\site-packages\\seaborn\\_decorators.py:36: FutureWarning: Pass the following variables as keyword args: x, y. From version 0.12, the only valid positional argument will be `data`, and passing other arguments without an explicit keyword will result in an error or misinterpretation.\n",
      "  warnings.warn(\n"
     ]
    },
    {
     "data": {
      "image/png": "[encoded data removed]",
      "text/plain": [
       "<Figure size 360x360 with 1 Axes>"
      ]
     },
     "metadata": {
      "needs_background": "light"
     },
     "output_type": "display_data"
    }
   ],
   "source": [
    "importances = arbol.feature_importances_\n",
    "columns = x.columns\n",
    "sns.barplot(columns, importances)\n",
    "plt.title('Importancia de cada Feature')\n",
    "plt.xticks(rotation=90)\n",
    "plt.show()"
   ]
  },
  {
   "cell_type": "code",
   "execution_count": 457,
   "id": "satellite-dairy",
   "metadata": {},
   "outputs": [
    {
     "name": "stdout",
     "output_type": "stream",
     "text": [
      "Index(['lat', 'lon', 'rooms', 'bedrooms', 'bathrooms', 'surface_total'], dtype='object') [0.32709344 0.34326155 0.01991958 0.06635025 0.18001208 0.0633631 ]\n"
     ]
    }
   ],
   "source": [
    "print(x.columns, arbol.feature_importances_)"
   ]
  },
  {
   "cell_type": "code",
   "execution_count": 458,
   "id": "prerequisite-dynamics",
   "metadata": {},
   "outputs": [
    {
     "data": {
      "text/html": [
       "<div>\n",
       "<style scoped>\n",
       "    .dataframe tbody tr th:only-of-type {\n",
       "        vertical-align: middle;\n",
       "    }\n",
       "\n",
       "    .dataframe tbody tr th {\n",
       "        vertical-align: top;\n",
       "    }\n",
       "\n",
       "    .dataframe thead th {\n",
       "        text-align: right;\n",
       "    }\n",
       "</style>\n",
       "<table border=\"1\" class=\"dataframe\">\n",
       "  <thead>\n",
       "    <tr style=\"text-align: right;\">\n",
       "      <th></th>\n",
       "      <th>Columnas</th>\n",
       "      <th>Importancia_Feature</th>\n",
       "    </tr>\n",
       "  </thead>\n",
       "  <tbody>\n",
       "    <tr>\n",
       "      <th>1</th>\n",
       "      <td>lon</td>\n",
       "      <td>0.343262</td>\n",
       "    </tr>\n",
       "    <tr>\n",
       "      <th>0</th>\n",
       "      <td>lat</td>\n",
       "      <td>0.327093</td>\n",
       "    </tr>\n",
       "    <tr>\n",
       "      <th>4</th>\n",
       "      <td>bathrooms</td>\n",
       "      <td>0.180012</td>\n",
       "    </tr>\n",
       "    <tr>\n",
       "      <th>3</th>\n",
       "      <td>bedrooms</td>\n",
       "      <td>0.066350</td>\n",
       "    </tr>\n",
       "    <tr>\n",
       "      <th>5</th>\n",
       "      <td>surface_total</td>\n",
       "      <td>0.063363</td>\n",
       "    </tr>\n",
       "    <tr>\n",
       "      <th>2</th>\n",
       "      <td>rooms</td>\n",
       "      <td>0.019920</td>\n",
       "    </tr>\n",
       "  </tbody>\n",
       "</table>\n",
       "</div>"
      ],
      "text/plain": [
       "        Columnas  Importancia_Feature\n",
       "1            lon             0.343262\n",
       "0            lat             0.327093\n",
       "4      bathrooms             0.180012\n",
       "3       bedrooms             0.066350\n",
       "5  surface_total             0.063363\n",
       "2          rooms             0.019920"
      ]
     },
     "execution_count": 458,
     "metadata": {},
     "output_type": "execute_result"
    }
   ],
   "source": [
    "frame=pd.DataFrame({'Columnas':x.columns,'Importancia_Feature':arbol.feature_importances_}) \n",
    "\n",
    "frame.sort_values(by=['Importancia_Feature'],ascending=False)"
   ]
  },
  {
   "cell_type": "markdown",
   "id": "metropolitan-partnership",
   "metadata": {},
   "source": [
    "**Análisis de Hiperparámetros**"
   ]
  },
  {
   "cell_type": "markdown",
   "id": "specialized-literature",
   "metadata": {},
   "source": [
    "Para esta ocasión procederemos a analizar tanto la curva de validación normal como la realizada a través del proceso de validación cruzada con la finalidad de asegurar la mejor elección de hiperparámetros."
   ]
  },
  {
   "cell_type": "markdown",
   "id": "underlying-triangle",
   "metadata": {},
   "source": [
    "**Análisis para maxdepth**"
   ]
  },
  {
   "cell_type": "markdown",
   "id": "molecular-metropolitan",
   "metadata": {},
   "source": [
    "Procedemos a realizar un análisis de algunos de los hiperparámetros con los que cuenta el árbol de decisión con el fin de mejorar aún más el modelo, siempre y cuando garanticemos no caiga en un sobreajuste o desajuste."
   ]
  },
  {
   "cell_type": "code",
   "execution_count": 459,
   "id": "wound-exercise",
   "metadata": {},
   "outputs": [],
   "source": [
    "train_accuracy=[]\n",
    "validation_accuracy=[]\n",
    "\n",
    "#Se eligió el rango hasta 20 ya que no se veía mucha variación en el gráfico y en los puntajes de precisión luego de este valor. \n",
    "\n",
    "for depth in range(1,20):\n",
    "    arbol1 = DecisionTreeRegressor(max_depth=depth, random_state=42) \n",
    "    arbol1.fit(x_train,y_train)\n",
    "    train_accuracy.append(arbol1.score(x_train,y_train))\n",
    "    validation_accuracy.append(arbol1.score(x_test,y_test))"
   ]
  },
  {
   "cell_type": "code",
   "execution_count": 460,
   "id": "fourth-dictionary",
   "metadata": {},
   "outputs": [
    {
     "data": {
      "text/html": [
       "<div>\n",
       "<style scoped>\n",
       "    .dataframe tbody tr th:only-of-type {\n",
       "        vertical-align: middle;\n",
       "    }\n",
       "\n",
       "    .dataframe tbody tr th {\n",
       "        vertical-align: top;\n",
       "    }\n",
       "\n",
       "    .dataframe thead th {\n",
       "        text-align: right;\n",
       "    }\n",
       "</style>\n",
       "<table border=\"1\" class=\"dataframe\">\n",
       "  <thead>\n",
       "    <tr style=\"text-align: right;\">\n",
       "      <th></th>\n",
       "      <th>maxdepth</th>\n",
       "      <th>train_acc</th>\n",
       "      <th>valid_acc</th>\n",
       "    </tr>\n",
       "  </thead>\n",
       "  <tbody>\n",
       "    <tr>\n",
       "      <th>0</th>\n",
       "      <td>1</td>\n",
       "      <td>0.130538</td>\n",
       "      <td>0.138759</td>\n",
       "    </tr>\n",
       "    <tr>\n",
       "      <th>1</th>\n",
       "      <td>2</td>\n",
       "      <td>0.223684</td>\n",
       "      <td>0.230650</td>\n",
       "    </tr>\n",
       "    <tr>\n",
       "      <th>2</th>\n",
       "      <td>3</td>\n",
       "      <td>0.302336</td>\n",
       "      <td>0.303649</td>\n",
       "    </tr>\n",
       "    <tr>\n",
       "      <th>3</th>\n",
       "      <td>4</td>\n",
       "      <td>0.372810</td>\n",
       "      <td>0.371596</td>\n",
       "    </tr>\n",
       "    <tr>\n",
       "      <th>4</th>\n",
       "      <td>5</td>\n",
       "      <td>0.445114</td>\n",
       "      <td>0.437117</td>\n",
       "    </tr>\n",
       "    <tr>\n",
       "      <th>5</th>\n",
       "      <td>6</td>\n",
       "      <td>0.498553</td>\n",
       "      <td>0.486943</td>\n",
       "    </tr>\n",
       "    <tr>\n",
       "      <th>6</th>\n",
       "      <td>7</td>\n",
       "      <td>0.546566</td>\n",
       "      <td>0.525705</td>\n",
       "    </tr>\n",
       "    <tr>\n",
       "      <th>7</th>\n",
       "      <td>8</td>\n",
       "      <td>0.586740</td>\n",
       "      <td>0.552853</td>\n",
       "    </tr>\n",
       "    <tr>\n",
       "      <th>8</th>\n",
       "      <td>9</td>\n",
       "      <td>0.624344</td>\n",
       "      <td>0.570437</td>\n",
       "    </tr>\n",
       "    <tr>\n",
       "      <th>9</th>\n",
       "      <td>10</td>\n",
       "      <td>0.659585</td>\n",
       "      <td>0.583475</td>\n",
       "    </tr>\n",
       "    <tr>\n",
       "      <th>10</th>\n",
       "      <td>11</td>\n",
       "      <td>0.694513</td>\n",
       "      <td>0.596941</td>\n",
       "    </tr>\n",
       "    <tr>\n",
       "      <th>11</th>\n",
       "      <td>12</td>\n",
       "      <td>0.726445</td>\n",
       "      <td>0.601392</td>\n",
       "    </tr>\n",
       "    <tr>\n",
       "      <th>12</th>\n",
       "      <td>13</td>\n",
       "      <td>0.759232</td>\n",
       "      <td>0.598896</td>\n",
       "    </tr>\n",
       "    <tr>\n",
       "      <th>13</th>\n",
       "      <td>14</td>\n",
       "      <td>0.791923</td>\n",
       "      <td>0.597833</td>\n",
       "    </tr>\n",
       "    <tr>\n",
       "      <th>14</th>\n",
       "      <td>15</td>\n",
       "      <td>0.820123</td>\n",
       "      <td>0.595003</td>\n",
       "    </tr>\n",
       "    <tr>\n",
       "      <th>15</th>\n",
       "      <td>16</td>\n",
       "      <td>0.844220</td>\n",
       "      <td>0.585452</td>\n",
       "    </tr>\n",
       "    <tr>\n",
       "      <th>16</th>\n",
       "      <td>17</td>\n",
       "      <td>0.867226</td>\n",
       "      <td>0.582978</td>\n",
       "    </tr>\n",
       "    <tr>\n",
       "      <th>17</th>\n",
       "      <td>18</td>\n",
       "      <td>0.886218</td>\n",
       "      <td>0.580317</td>\n",
       "    </tr>\n",
       "    <tr>\n",
       "      <th>18</th>\n",
       "      <td>19</td>\n",
       "      <td>0.902793</td>\n",
       "      <td>0.573290</td>\n",
       "    </tr>\n",
       "  </tbody>\n",
       "</table>\n",
       "</div>"
      ],
      "text/plain": [
       "    maxdepth  train_acc  valid_acc\n",
       "0          1   0.130538   0.138759\n",
       "1          2   0.223684   0.230650\n",
       "2          3   0.302336   0.303649\n",
       "3          4   0.372810   0.371596\n",
       "4          5   0.445114   0.437117\n",
       "5          6   0.498553   0.486943\n",
       "6          7   0.546566   0.525705\n",
       "7          8   0.586740   0.552853\n",
       "8          9   0.624344   0.570437\n",
       "9         10   0.659585   0.583475\n",
       "10        11   0.694513   0.596941\n",
       "11        12   0.726445   0.601392\n",
       "12        13   0.759232   0.598896\n",
       "13        14   0.791923   0.597833\n",
       "14        15   0.820123   0.595003\n",
       "15        16   0.844220   0.585452\n",
       "16        17   0.867226   0.582978\n",
       "17        18   0.886218   0.580317\n",
       "18        19   0.902793   0.573290"
      ]
     },
     "execution_count": 460,
     "metadata": {},
     "output_type": "execute_result"
    }
   ],
   "source": [
    "frame=pd.DataFrame({'maxdepth':range(1,20), 'train_acc':train_accuracy,'valid_acc':validation_accuracy}) \n",
    "\n",
    "frame.sort_values(by=['maxdepth'],ascending=True)"
   ]
  },
  {
   "cell_type": "code",
   "execution_count": 461,
   "id": "alike-bailey",
   "metadata": {},
   "outputs": [
    {
     "data": {
      "text/plain": [
       "<matplotlib.legend.Legend at 0x26216c1f4c0>"
      ]
     },
     "execution_count": 461,
     "metadata": {},
     "output_type": "execute_result"
    },
    {
     "data": {
      "image/png": "[encoded data removed]",
      "text/plain": [
       "<Figure size 864x432 with 1 Axes>"
      ]
     },
     "metadata": {
      "needs_background": "light"
     },
     "output_type": "display_data"
    }
   ],
   "source": [
    "plt.figure(figsize=(12,6))\n",
    "plt.plot(frame['maxdepth'], frame['train_acc'], marker='o',label='train')\n",
    "plt.plot(frame['maxdepth'], frame['valid_acc'], marker='o',label='test')\n",
    "plt.xlabel('Profundidad del árbol')\n",
    "plt.ylabel('Desempeño')\n",
    "plt.legend()"
   ]
  },
  {
   "cell_type": "code",
   "execution_count": 462,
   "id": "knowing-immigration",
   "metadata": {},
   "outputs": [],
   "source": [
    "from sklearn.model_selection import cross_validate"
   ]
  },
  {
   "cell_type": "code",
   "execution_count": 463,
   "id": "unlimited-spank",
   "metadata": {},
   "outputs": [],
   "source": [
    "tree_train_scores_mean = []\n",
    "tree_train_scores_std = []\n",
    "tree_test_scores_mean = []\n",
    "tree_test_scores_std = []\n",
    "\n",
    "profundidades = np.arange(1,20,1)\n",
    "\n",
    "for profundidad in profundidades:\n",
    "    arbol1 = DecisionTreeRegressor(max_depth=profundidad)\n",
    "    tree_scores = cross_validate(arbol1, x, y, cv=5, return_train_score=True, n_jobs = -1)\n",
    "    \n",
    "    tree_train_scores_mean.append(tree_scores['train_score'].mean())\n",
    "    tree_train_scores_std.append(tree_scores['train_score'].std())\n",
    "    \n",
    "    tree_test_scores_mean.append(tree_scores['test_score'].mean())\n",
    "    tree_test_scores_std.append(tree_scores['test_score'].std())\n",
    "\n",
    "tree_train_scores_mean = np.array(tree_train_scores_mean)\n",
    "tree_train_scores_std = np.array(tree_train_scores_std)\n",
    "tree_test_scores_mean = np.array(tree_test_scores_mean)\n",
    "tree_test_scores_std = np.array(tree_test_scores_std)"
   ]
  },
  {
   "cell_type": "code",
   "execution_count": 464,
   "id": "generous-toner",
   "metadata": {},
   "outputs": [
    {
     "data": {
      "image/png": "[encoded data removed]",
      "text/plain": [
       "<Figure size 864x576 with 1 Axes>"
      ]
     },
     "metadata": {
      "needs_background": "light"
     },
     "output_type": "display_data"
    }
   ],
   "source": [
    "plt.figure(figsize=(12,8))\n",
    "plt.fill_between(profundidades, tree_train_scores_mean - tree_train_scores_std,\n",
    "                 tree_train_scores_mean + tree_train_scores_std, alpha=0.1,\n",
    "                 color=\"r\")\n",
    "plt.fill_between(profundidades, tree_test_scores_mean - tree_test_scores_std,\n",
    "                 tree_test_scores_mean + tree_test_scores_std, alpha=0.1, color=\"g\")\n",
    "plt.plot(profundidades, tree_train_scores_mean, 'o-', color=\"r\",\n",
    "         label=\"Training score\")\n",
    "plt.plot(profundidades, tree_test_scores_mean, 'o-', color=\"g\",\n",
    "         label=\"Test score\")\n",
    "plt.legend()\n",
    "plt.ylabel('Accuracy')\n",
    "plt.xlabel('Profundidad Arbol de Decision')\n",
    "plt.show()"
   ]
  },
  {
   "cell_type": "markdown",
   "id": "prostate-kuwait",
   "metadata": {},
   "source": [
    "Se procede a elegir 12 como la profundidad adecuada para nuestro árbol de decisión."
   ]
  },
  {
   "cell_type": "markdown",
   "id": "interior-dynamics",
   "metadata": {},
   "source": [
    "**Análisis para min_samples_split**"
   ]
  },
  {
   "cell_type": "code",
   "execution_count": 465,
   "id": "aerial-improvement",
   "metadata": {},
   "outputs": [],
   "source": [
    "train_accuracy=[]\n",
    "validation_accuracy=[]\n",
    "\n",
    "#Se eligió el rango hasta 10 ya que no se veía mucha variación en el gráfico y en los puntajes de precisión luego de este valor;\n",
    "#En el caso de min samples split el número de menor valor posible a elegir es 2 por eso se inicia el rango por este número. \n",
    "\n",
    "for options in range(2,10):\n",
    "    arbol1 = DecisionTreeRegressor(min_samples_split=options, random_state=42) \n",
    "    arbol1.fit(x_train,y_train)\n",
    "    train_accuracy.append(arbol1.score(x_train,y_train))\n",
    "    validation_accuracy.append(arbol1.score(x_test,y_test))"
   ]
  },
  {
   "cell_type": "code",
   "execution_count": 466,
   "id": "prospective-jersey",
   "metadata": {},
   "outputs": [
    {
     "data": {
      "text/html": [
       "<div>\n",
       "<style scoped>\n",
       "    .dataframe tbody tr th:only-of-type {\n",
       "        vertical-align: middle;\n",
       "    }\n",
       "\n",
       "    .dataframe tbody tr th {\n",
       "        vertical-align: top;\n",
       "    }\n",
       "\n",
       "    .dataframe thead th {\n",
       "        text-align: right;\n",
       "    }\n",
       "</style>\n",
       "<table border=\"1\" class=\"dataframe\">\n",
       "  <thead>\n",
       "    <tr style=\"text-align: right;\">\n",
       "      <th></th>\n",
       "      <th>min_samples_split</th>\n",
       "      <th>train_acc</th>\n",
       "      <th>valid_acc</th>\n",
       "    </tr>\n",
       "  </thead>\n",
       "  <tbody>\n",
       "    <tr>\n",
       "      <th>0</th>\n",
       "      <td>2</td>\n",
       "      <td>0.954347</td>\n",
       "      <td>0.546987</td>\n",
       "    </tr>\n",
       "    <tr>\n",
       "      <th>1</th>\n",
       "      <td>3</td>\n",
       "      <td>0.945096</td>\n",
       "      <td>0.547789</td>\n",
       "    </tr>\n",
       "    <tr>\n",
       "      <th>2</th>\n",
       "      <td>4</td>\n",
       "      <td>0.934100</td>\n",
       "      <td>0.559041</td>\n",
       "    </tr>\n",
       "    <tr>\n",
       "      <th>3</th>\n",
       "      <td>5</td>\n",
       "      <td>0.921862</td>\n",
       "      <td>0.562531</td>\n",
       "    </tr>\n",
       "    <tr>\n",
       "      <th>4</th>\n",
       "      <td>6</td>\n",
       "      <td>0.910660</td>\n",
       "      <td>0.566478</td>\n",
       "    </tr>\n",
       "    <tr>\n",
       "      <th>5</th>\n",
       "      <td>7</td>\n",
       "      <td>0.899189</td>\n",
       "      <td>0.572398</td>\n",
       "    </tr>\n",
       "    <tr>\n",
       "      <th>6</th>\n",
       "      <td>8</td>\n",
       "      <td>0.888589</td>\n",
       "      <td>0.576832</td>\n",
       "    </tr>\n",
       "    <tr>\n",
       "      <th>7</th>\n",
       "      <td>9</td>\n",
       "      <td>0.879767</td>\n",
       "      <td>0.583902</td>\n",
       "    </tr>\n",
       "  </tbody>\n",
       "</table>\n",
       "</div>"
      ],
      "text/plain": [
       "   min_samples_split  train_acc  valid_acc\n",
       "0                  2   0.954347   0.546987\n",
       "1                  3   0.945096   0.547789\n",
       "2                  4   0.934100   0.559041\n",
       "3                  5   0.921862   0.562531\n",
       "4                  6   0.910660   0.566478\n",
       "5                  7   0.899189   0.572398\n",
       "6                  8   0.888589   0.576832\n",
       "7                  9   0.879767   0.583902"
      ]
     },
     "execution_count": 466,
     "metadata": {},
     "output_type": "execute_result"
    }
   ],
   "source": [
    "frame=pd.DataFrame({'min_samples_split':range(2,10), 'train_acc':train_accuracy,'valid_acc':validation_accuracy}) \n",
    "\n",
    "frame.sort_values(by=['min_samples_split'],ascending=True)"
   ]
  },
  {
   "cell_type": "code",
   "execution_count": 467,
   "id": "suspended-framework",
   "metadata": {},
   "outputs": [
    {
     "data": {
      "text/plain": [
       "<matplotlib.legend.Legend at 0x261cd68e100>"
      ]
     },
     "execution_count": 467,
     "metadata": {},
     "output_type": "execute_result"
    },
    {
     "data": {
      "image/png": "[encoded data removed]",
      "text/plain": [
       "<Figure size 864x432 with 1 Axes>"
      ]
     },
     "metadata": {
      "needs_background": "light"
     },
     "output_type": "display_data"
    }
   ],
   "source": [
    "plt.figure(figsize=(12,6))\n",
    "plt.plot(frame['min_samples_split'], frame['train_acc'], marker='o',label='train')\n",
    "plt.plot(frame['min_samples_split'], frame['valid_acc'], marker='o',label='test')\n",
    "plt.xlabel('Division minima de la muestra')\n",
    "plt.ylabel('Desempeño')\n",
    "plt.legend()"
   ]
  },
  {
   "cell_type": "code",
   "execution_count": 468,
   "id": "least-gossip",
   "metadata": {},
   "outputs": [
    {
     "name": "stderr",
     "output_type": "stream",
     "text": [
      "D:\\Miniconda\\lib\\site-packages\\sklearn\\model_selection\\_validation.py:372: FitFailedWarning: \n",
      "5 fits failed out of a total of 5.\n",
      "The score on these train-test partitions for these parameters will be set to nan.\n",
      "If these failures are not expected, you can try to debug them by setting error_score='raise'.\n",
      "\n",
      "Below are more details about the failures:\n",
      "--------------------------------------------------------------------------------\n",
      "5 fits failed with the following error:\n",
      "Traceback (most recent call last):\n",
      "  File \"D:\\Miniconda\\lib\\site-packages\\sklearn\\model_selection\\_validation.py\", line 680, in _fit_and_score\n",
      "    estimator.fit(X_train, y_train, **fit_params)\n",
      "  File \"D:\\Miniconda\\lib\\site-packages\\sklearn\\tree\\_classes.py\", line 1315, in fit\n",
      "    super().fit(\n",
      "  File \"D:\\Miniconda\\lib\\site-packages\\sklearn\\tree\\_classes.py\", line 250, in fit\n",
      "    raise ValueError(\n",
      "ValueError: min_samples_split must be an integer greater than 1 or a float in (0.0, 1.0]; got the integer 1\n",
      "\n",
      "  warnings.warn(some_fits_failed_message, FitFailedWarning)\n"
     ]
    }
   ],
   "source": [
    "tree_train_scores_mean = []\n",
    "tree_train_scores_std = []\n",
    "tree_test_scores_mean = []\n",
    "tree_test_scores_std = []\n",
    "\n",
    "profundidades = np.arange(1,10,1)\n",
    "\n",
    "for option in profundidades:\n",
    "    arbol1 = DecisionTreeRegressor(min_samples_split=option)\n",
    "    tree_scores = cross_validate(arbol1, x, y, cv=5, return_train_score=True, n_jobs = -1)\n",
    "    \n",
    "    tree_train_scores_mean.append(tree_scores['train_score'].mean())\n",
    "    tree_train_scores_std.append(tree_scores['train_score'].std())\n",
    "    \n",
    "    tree_test_scores_mean.append(tree_scores['test_score'].mean())\n",
    "    tree_test_scores_std.append(tree_scores['test_score'].std())\n",
    "\n",
    "tree_train_scores_mean = np.array(tree_train_scores_mean)\n",
    "tree_train_scores_std = np.array(tree_train_scores_std)\n",
    "tree_test_scores_mean = np.array(tree_test_scores_mean)\n",
    "tree_test_scores_std = np.array(tree_test_scores_std)"
   ]
  },
  {
   "cell_type": "code",
   "execution_count": 469,
   "id": "laughing-correction",
   "metadata": {},
   "outputs": [
    {
     "data": {
      "image/png": "[encoded data removed]",
      "text/plain": [
       "<Figure size 864x576 with 1 Axes>"
      ]
     },
     "metadata": {
      "needs_background": "light"
     },
     "output_type": "display_data"
    }
   ],
   "source": [
    "plt.figure(figsize=(12,8))\n",
    "plt.fill_between(profundidades, tree_train_scores_mean - tree_train_scores_std,\n",
    "                 tree_train_scores_mean + tree_train_scores_std, alpha=0.1,\n",
    "                 color=\"r\")\n",
    "plt.fill_between(profundidades, tree_test_scores_mean - tree_test_scores_std,\n",
    "                 tree_test_scores_mean + tree_test_scores_std, alpha=0.1, color=\"g\")\n",
    "plt.plot(profundidades, tree_train_scores_mean, 'o-', color=\"r\",\n",
    "         label=\"Training score\")\n",
    "plt.plot(profundidades, tree_test_scores_mean, 'o-', color=\"g\",\n",
    "         label=\"Test score\")\n",
    "plt.legend()\n",
    "plt.ylabel('Accuracy')\n",
    "plt.xlabel('Division minima de la muestra')\n",
    "plt.show()"
   ]
  },
  {
   "cell_type": "markdown",
   "id": "correct-earthquake",
   "metadata": {},
   "source": [
    "Se elige 5 como la división mínima de la muestra más adecuada."
   ]
  },
  {
   "cell_type": "markdown",
   "id": "recovered-amateur",
   "metadata": {},
   "source": [
    "**Análisis para min_samples_leaf**"
   ]
  },
  {
   "cell_type": "code",
   "execution_count": 470,
   "id": "excellent-analyst",
   "metadata": {},
   "outputs": [],
   "source": [
    "train_accuracy=[]\n",
    "validation_accuracy=[]\n",
    "\n",
    "#Se eligió el rango hasta 10 ya que no se veía mucha variación en el gráfico y en los puntajes de precisión luego de este valor. \n",
    "\n",
    "for options1 in range(1,10):\n",
    "    arbol1 = DecisionTreeRegressor(min_samples_leaf=options1, random_state=42) \n",
    "    arbol1.fit(x_train,y_train)\n",
    "    train_accuracy.append(arbol1.score(x_train,y_train))\n",
    "    validation_accuracy.append(arbol1.score(x_test,y_test))"
   ]
  },
  {
   "cell_type": "code",
   "execution_count": 471,
   "id": "foster-radical",
   "metadata": {},
   "outputs": [
    {
     "data": {
      "text/html": [
       "<div>\n",
       "<style scoped>\n",
       "    .dataframe tbody tr th:only-of-type {\n",
       "        vertical-align: middle;\n",
       "    }\n",
       "\n",
       "    .dataframe tbody tr th {\n",
       "        vertical-align: top;\n",
       "    }\n",
       "\n",
       "    .dataframe thead th {\n",
       "        text-align: right;\n",
       "    }\n",
       "</style>\n",
       "<table border=\"1\" class=\"dataframe\">\n",
       "  <thead>\n",
       "    <tr style=\"text-align: right;\">\n",
       "      <th></th>\n",
       "      <th>min_samples_leaf</th>\n",
       "      <th>train_acc</th>\n",
       "      <th>valid_acc</th>\n",
       "    </tr>\n",
       "  </thead>\n",
       "  <tbody>\n",
       "    <tr>\n",
       "      <th>0</th>\n",
       "      <td>1</td>\n",
       "      <td>0.954347</td>\n",
       "      <td>0.546987</td>\n",
       "    </tr>\n",
       "    <tr>\n",
       "      <th>1</th>\n",
       "      <td>2</td>\n",
       "      <td>0.900367</td>\n",
       "      <td>0.582076</td>\n",
       "    </tr>\n",
       "    <tr>\n",
       "      <th>2</th>\n",
       "      <td>3</td>\n",
       "      <td>0.860139</td>\n",
       "      <td>0.592935</td>\n",
       "    </tr>\n",
       "    <tr>\n",
       "      <th>3</th>\n",
       "      <td>4</td>\n",
       "      <td>0.829500</td>\n",
       "      <td>0.604786</td>\n",
       "    </tr>\n",
       "    <tr>\n",
       "      <th>4</th>\n",
       "      <td>5</td>\n",
       "      <td>0.807620</td>\n",
       "      <td>0.609729</td>\n",
       "    </tr>\n",
       "    <tr>\n",
       "      <th>5</th>\n",
       "      <td>6</td>\n",
       "      <td>0.789218</td>\n",
       "      <td>0.616492</td>\n",
       "    </tr>\n",
       "    <tr>\n",
       "      <th>6</th>\n",
       "      <td>7</td>\n",
       "      <td>0.775590</td>\n",
       "      <td>0.615417</td>\n",
       "    </tr>\n",
       "    <tr>\n",
       "      <th>7</th>\n",
       "      <td>8</td>\n",
       "      <td>0.761709</td>\n",
       "      <td>0.622228</td>\n",
       "    </tr>\n",
       "    <tr>\n",
       "      <th>8</th>\n",
       "      <td>9</td>\n",
       "      <td>0.752453</td>\n",
       "      <td>0.620041</td>\n",
       "    </tr>\n",
       "  </tbody>\n",
       "</table>\n",
       "</div>"
      ],
      "text/plain": [
       "   min_samples_leaf  train_acc  valid_acc\n",
       "0                 1   0.954347   0.546987\n",
       "1                 2   0.900367   0.582076\n",
       "2                 3   0.860139   0.592935\n",
       "3                 4   0.829500   0.604786\n",
       "4                 5   0.807620   0.609729\n",
       "5                 6   0.789218   0.616492\n",
       "6                 7   0.775590   0.615417\n",
       "7                 8   0.761709   0.622228\n",
       "8                 9   0.752453   0.620041"
      ]
     },
     "execution_count": 471,
     "metadata": {},
     "output_type": "execute_result"
    }
   ],
   "source": [
    "frame=pd.DataFrame({'min_samples_leaf':range(1,10), 'train_acc':train_accuracy,'valid_acc':validation_accuracy}) \n",
    "\n",
    "frame.sort_values(by=['min_samples_leaf'],ascending=True)"
   ]
  },
  {
   "cell_type": "code",
   "execution_count": 472,
   "id": "earlier-brother",
   "metadata": {},
   "outputs": [
    {
     "data": {
      "text/plain": [
       "<matplotlib.legend.Legend at 0x26255685970>"
      ]
     },
     "execution_count": 472,
     "metadata": {},
     "output_type": "execute_result"
    },
    {
     "data": {
      "image/png": "[encoded data removed]",
      "text/plain": [
       "<Figure size 864x432 with 1 Axes>"
      ]
     },
     "metadata": {
      "needs_background": "light"
     },
     "output_type": "display_data"
    }
   ],
   "source": [
    "plt.figure(figsize=(12,6))\n",
    "plt.plot(frame['min_samples_leaf'], frame['train_acc'], marker='o',label='train')\n",
    "plt.plot(frame['min_samples_leaf'], frame['valid_acc'], marker='o',label='test')\n",
    "plt.xlabel('División mínima de la muestra para un nodo u hoja')\n",
    "plt.ylabel('Desempeño')\n",
    "plt.legend()"
   ]
  },
  {
   "cell_type": "code",
   "execution_count": 473,
   "id": "middle-memphis",
   "metadata": {},
   "outputs": [],
   "source": [
    "tree_train_scores_mean = []\n",
    "tree_train_scores_std = []\n",
    "tree_test_scores_mean = []\n",
    "tree_test_scores_std = []\n",
    "\n",
    "profundidades = np.arange(1,10,1)\n",
    "\n",
    "for option in profundidades:\n",
    "    arbol1 = DecisionTreeRegressor(min_samples_leaf=options1)\n",
    "    tree_scores = cross_validate(arbol1, x, y, cv=5, return_train_score=True, n_jobs = -1)\n",
    "    \n",
    "    tree_train_scores_mean.append(tree_scores['train_score'].mean())\n",
    "    tree_train_scores_std.append(tree_scores['train_score'].std())\n",
    "    \n",
    "    tree_test_scores_mean.append(tree_scores['test_score'].mean())\n",
    "    tree_test_scores_std.append(tree_scores['test_score'].std())\n",
    "\n",
    "tree_train_scores_mean = np.array(tree_train_scores_mean)\n",
    "tree_train_scores_std = np.array(tree_train_scores_std)\n",
    "tree_test_scores_mean = np.array(tree_test_scores_mean)\n",
    "tree_test_scores_std = np.array(tree_test_scores_std)"
   ]
  },
  {
   "cell_type": "code",
   "execution_count": 474,
   "id": "comic-certificate",
   "metadata": {},
   "outputs": [
    {
     "data": {
      "image/png": "[encoded data removed]",
      "text/plain": [
       "<Figure size 864x576 with 1 Axes>"
      ]
     },
     "metadata": {
      "needs_background": "light"
     },
     "output_type": "display_data"
    }
   ],
   "source": [
    "plt.figure(figsize=(12,8))\n",
    "plt.fill_between(profundidades, tree_train_scores_mean - tree_train_scores_std,\n",
    "                 tree_train_scores_mean + tree_train_scores_std, alpha=0.1,\n",
    "                 color=\"r\")\n",
    "plt.fill_between(profundidades, tree_test_scores_mean - tree_test_scores_std,\n",
    "                 tree_test_scores_mean + tree_test_scores_std, alpha=0.1, color=\"g\")\n",
    "plt.plot(profundidades, tree_train_scores_mean, 'o-', color=\"r\",\n",
    "         label=\"Training score\")\n",
    "plt.plot(profundidades, tree_test_scores_mean, 'o-', color=\"g\",\n",
    "         label=\"Test score\")\n",
    "plt.legend()\n",
    "plt.ylabel('Accuracy')\n",
    "plt.xlabel('División mínima de la muestra para un nodo u hoja')\n",
    "plt.show()"
   ]
  },
  {
   "cell_type": "markdown",
   "id": "remarkable-display",
   "metadata": {},
   "source": [
    "Se selecciona 6 como el más adecuado para la división mínima de la muestra para un nodo u hoja."
   ]
  },
  {
   "cell_type": "markdown",
   "id": "extreme-honolulu",
   "metadata": {},
   "source": [
    "**Continuacion arbol de decisión**"
   ]
  },
  {
   "cell_type": "markdown",
   "id": "toxic-opinion",
   "metadata": {},
   "source": [
    "En este punto ya hemos realizado varios hallazgos a nuestro análisis con lo que podemos generar un nuevo modelo para, filtrar por las variables más importantes encontradas, elegir los mejores hiperparámetros y hacer así más fácil la ejecución de un gridsearch."
   ]
  },
  {
   "cell_type": "code",
   "execution_count": 475,
   "id": "minor-hobby",
   "metadata": {},
   "outputs": [],
   "source": [
    "x0 = new_antioquia1[['lon','lat','bathrooms','bedrooms']] \n",
    "y0 = new_antioquia1['price']\n",
    "\n",
    "x_train0,x_test0,y_train0,y_test0 = train_test_split(x0,y0,random_state=42)"
   ]
  },
  {
   "cell_type": "code",
   "execution_count": 476,
   "id": "saved-paraguay",
   "metadata": {},
   "outputs": [],
   "source": [
    "tree_regressor = DecisionTreeRegressor(max_depth=12,min_samples_leaf = 6, min_samples_split = 5)"
   ]
  },
  {
   "cell_type": "code",
   "execution_count": 477,
   "id": "increased-memory",
   "metadata": {},
   "outputs": [
    {
     "data": {
      "text/plain": [
       "DecisionTreeRegressor(max_depth=12, min_samples_leaf=6, min_samples_split=5)"
      ]
     },
     "execution_count": 477,
     "metadata": {},
     "output_type": "execute_result"
    }
   ],
   "source": [
    "tree_regressor.fit(x_train0, y_train0)"
   ]
  },
  {
   "cell_type": "code",
   "execution_count": 478,
   "id": "toxic-coral",
   "metadata": {},
   "outputs": [
    {
     "data": {
      "text/plain": [
       "0.6911969924768441"
      ]
     },
     "execution_count": 478,
     "metadata": {},
     "output_type": "execute_result"
    }
   ],
   "source": [
    "tree_regressor.score(x_train0,y_train0)"
   ]
  },
  {
   "cell_type": "code",
   "execution_count": 479,
   "id": "incoming-administration",
   "metadata": {},
   "outputs": [
    {
     "data": {
      "text/plain": [
       "0.5942555530287086"
      ]
     },
     "execution_count": 479,
     "metadata": {},
     "output_type": "execute_result"
    }
   ],
   "source": [
    "tree_regressor.score(x_test0,y_test0)"
   ]
  },
  {
   "cell_type": "markdown",
   "id": "lonely-highlight",
   "metadata": {},
   "source": [
    "**Grid Search**"
   ]
  },
  {
   "cell_type": "markdown",
   "id": "typical-produce",
   "metadata": {},
   "source": [
    "Como ya hemos optimizado la mayoría de hiperparámetros solo incluiremos los hiperparámetros de splitter y criterion para encontrar el más adecuado con ayuda del gridsearch.\n",
    "\n",
    "Nota: A pesar de la reducción de hiperparámetros a analizar, este proceso puede tardar en cargar"
   ]
  },
  {
   "cell_type": "code",
   "execution_count": 480,
   "id": "dangerous-maryland",
   "metadata": {},
   "outputs": [],
   "source": [
    "from sklearn.model_selection import GridSearchCV\n",
    "\n",
    "# Grilla para Grid Search\n",
    "parametros = {'splitter': ['best','random'],\n",
    "              'criterion': ['squared_error','friedman_mse','absolute_error','poisson'], \n",
    "              } "
   ]
  },
  {
   "cell_type": "code",
   "execution_count": 481,
   "id": "original-radical",
   "metadata": {},
   "outputs": [
    {
     "data": {
      "text/plain": [
       "GridSearchCV(cv=5,\n",
       "             estimator=DecisionTreeRegressor(max_depth=12, min_samples_leaf=6,\n",
       "                                             min_samples_split=5),\n",
       "             param_grid={'criterion': ['squared_error', 'friedman_mse',\n",
       "                                       'absolute_error', 'poisson'],\n",
       "                         'splitter': ['best', 'random']})"
      ]
     },
     "execution_count": 481,
     "metadata": {},
     "output_type": "execute_result"
    }
   ],
   "source": [
    "# ESTRATEGIA 1: Grid Search\n",
    "modelo = GridSearchCV(tree_regressor, param_grid=parametros, cv=5)\n",
    "\n",
    "# Entrenamos: tree_regresor con la grilla definida arriba y CV con tamaño de Fold=5\n",
    "modelo.fit(x_train, y_train)"
   ]
  },
  {
   "cell_type": "code",
   "execution_count": 482,
   "id": "olympic-intranet",
   "metadata": {},
   "outputs": [
    {
     "name": "stdout",
     "output_type": "stream",
     "text": [
      "Mejores parametros: {'criterion': 'friedman_mse', 'splitter': 'best'}\n",
      "Mejor Score: 0.5955916516119244\n",
      "\n"
     ]
    },
    {
     "data": {
      "text/html": [
       "<div>\n",
       "<style scoped>\n",
       "    .dataframe tbody tr th:only-of-type {\n",
       "        vertical-align: middle;\n",
       "    }\n",
       "\n",
       "    .dataframe tbody tr th {\n",
       "        vertical-align: top;\n",
       "    }\n",
       "\n",
       "    .dataframe thead th {\n",
       "        text-align: right;\n",
       "    }\n",
       "</style>\n",
       "<table border=\"1\" class=\"dataframe\">\n",
       "  <thead>\n",
       "    <tr style=\"text-align: right;\">\n",
       "      <th></th>\n",
       "      <th>mean_fit_time</th>\n",
       "      <th>std_fit_time</th>\n",
       "      <th>mean_score_time</th>\n",
       "      <th>std_score_time</th>\n",
       "      <th>param_criterion</th>\n",
       "      <th>param_splitter</th>\n",
       "      <th>params</th>\n",
       "      <th>split0_test_score</th>\n",
       "      <th>split1_test_score</th>\n",
       "      <th>split2_test_score</th>\n",
       "      <th>split3_test_score</th>\n",
       "      <th>split4_test_score</th>\n",
       "      <th>mean_test_score</th>\n",
       "      <th>std_test_score</th>\n",
       "      <th>rank_test_score</th>\n",
       "    </tr>\n",
       "  </thead>\n",
       "  <tbody>\n",
       "    <tr>\n",
       "      <th>0</th>\n",
       "      <td>0.050312</td>\n",
       "      <td>0.000602</td>\n",
       "      <td>0.002401</td>\n",
       "      <td>4.900962e-04</td>\n",
       "      <td>squared_error</td>\n",
       "      <td>best</td>\n",
       "      <td>{'criterion': 'squared_error', 'splitter': 'be...</td>\n",
       "      <td>0.592120</td>\n",
       "      <td>0.593882</td>\n",
       "      <td>0.594066</td>\n",
       "      <td>0.605693</td>\n",
       "      <td>0.590563</td>\n",
       "      <td>0.595265</td>\n",
       "      <td>0.005368</td>\n",
       "      <td>2</td>\n",
       "    </tr>\n",
       "    <tr>\n",
       "      <th>1</th>\n",
       "      <td>0.010802</td>\n",
       "      <td>0.000400</td>\n",
       "      <td>0.002000</td>\n",
       "      <td>3.873843e-07</td>\n",
       "      <td>squared_error</td>\n",
       "      <td>random</td>\n",
       "      <td>{'criterion': 'squared_error', 'splitter': 'ra...</td>\n",
       "      <td>0.473400</td>\n",
       "      <td>0.465294</td>\n",
       "      <td>0.436335</td>\n",
       "      <td>0.489457</td>\n",
       "      <td>0.502128</td>\n",
       "      <td>0.473323</td>\n",
       "      <td>0.022462</td>\n",
       "      <td>4</td>\n",
       "    </tr>\n",
       "    <tr>\n",
       "      <th>2</th>\n",
       "      <td>0.049611</td>\n",
       "      <td>0.001200</td>\n",
       "      <td>0.002001</td>\n",
       "      <td>3.814697e-07</td>\n",
       "      <td>friedman_mse</td>\n",
       "      <td>best</td>\n",
       "      <td>{'criterion': 'friedman_mse', 'splitter': 'best'}</td>\n",
       "      <td>0.593103</td>\n",
       "      <td>0.593784</td>\n",
       "      <td>0.594973</td>\n",
       "      <td>0.605535</td>\n",
       "      <td>0.590563</td>\n",
       "      <td>0.595592</td>\n",
       "      <td>0.005177</td>\n",
       "      <td>1</td>\n",
       "    </tr>\n",
       "    <tr>\n",
       "      <th>3</th>\n",
       "      <td>0.010402</td>\n",
       "      <td>0.000490</td>\n",
       "      <td>0.001400</td>\n",
       "      <td>4.898819e-04</td>\n",
       "      <td>friedman_mse</td>\n",
       "      <td>random</td>\n",
       "      <td>{'criterion': 'friedman_mse', 'splitter': 'ran...</td>\n",
       "      <td>0.451554</td>\n",
       "      <td>0.410643</td>\n",
       "      <td>0.391561</td>\n",
       "      <td>0.536588</td>\n",
       "      <td>0.443938</td>\n",
       "      <td>0.446857</td>\n",
       "      <td>0.049903</td>\n",
       "      <td>5</td>\n",
       "    </tr>\n",
       "    <tr>\n",
       "      <th>4</th>\n",
       "      <td>9.786986</td>\n",
       "      <td>0.025829</td>\n",
       "      <td>0.002401</td>\n",
       "      <td>4.900768e-04</td>\n",
       "      <td>absolute_error</td>\n",
       "      <td>best</td>\n",
       "      <td>{'criterion': 'absolute_error', 'splitter': 'b...</td>\n",
       "      <td>0.575671</td>\n",
       "      <td>0.571661</td>\n",
       "      <td>0.580884</td>\n",
       "      <td>0.586217</td>\n",
       "      <td>0.588915</td>\n",
       "      <td>0.580670</td>\n",
       "      <td>0.006402</td>\n",
       "      <td>3</td>\n",
       "    </tr>\n",
       "    <tr>\n",
       "      <th>5</th>\n",
       "      <td>6.676178</td>\n",
       "      <td>0.934879</td>\n",
       "      <td>0.002001</td>\n",
       "      <td>5.560829e-07</td>\n",
       "      <td>absolute_error</td>\n",
       "      <td>random</td>\n",
       "      <td>{'criterion': 'absolute_error', 'splitter': 'r...</td>\n",
       "      <td>0.463614</td>\n",
       "      <td>0.478784</td>\n",
       "      <td>0.487818</td>\n",
       "      <td>0.377054</td>\n",
       "      <td>0.424121</td>\n",
       "      <td>0.446278</td>\n",
       "      <td>0.040904</td>\n",
       "      <td>6</td>\n",
       "    </tr>\n",
       "    <tr>\n",
       "      <th>6</th>\n",
       "      <td>0.071434</td>\n",
       "      <td>0.001045</td>\n",
       "      <td>0.001801</td>\n",
       "      <td>3.999718e-04</td>\n",
       "      <td>poisson</td>\n",
       "      <td>best</td>\n",
       "      <td>{'criterion': 'poisson', 'splitter': 'best'}</td>\n",
       "      <td>0.236470</td>\n",
       "      <td>0.252846</td>\n",
       "      <td>0.236237</td>\n",
       "      <td>0.244069</td>\n",
       "      <td>0.234592</td>\n",
       "      <td>0.240843</td>\n",
       "      <td>0.006839</td>\n",
       "      <td>8</td>\n",
       "    </tr>\n",
       "    <tr>\n",
       "      <th>7</th>\n",
       "      <td>0.014402</td>\n",
       "      <td>0.001019</td>\n",
       "      <td>0.001401</td>\n",
       "      <td>4.895900e-04</td>\n",
       "      <td>poisson</td>\n",
       "      <td>random</td>\n",
       "      <td>{'criterion': 'poisson', 'splitter': 'random'}</td>\n",
       "      <td>0.230709</td>\n",
       "      <td>0.304703</td>\n",
       "      <td>0.278780</td>\n",
       "      <td>0.295391</td>\n",
       "      <td>0.283274</td>\n",
       "      <td>0.278571</td>\n",
       "      <td>0.025608</td>\n",
       "      <td>7</td>\n",
       "    </tr>\n",
       "  </tbody>\n",
       "</table>\n",
       "</div>"
      ],
      "text/plain": [
       "   mean_fit_time  std_fit_time  mean_score_time  std_score_time  \\\n",
       "0       0.050312      0.000602         0.002401    4.900962e-04   \n",
       "1       0.010802      0.000400         0.002000    3.873843e-07   \n",
       "2       0.049611      0.001200         0.002001    3.814697e-07   \n",
       "3       0.010402      0.000490         0.001400    4.898819e-04   \n",
       "4       9.786986      0.025829         0.002401    4.900768e-04   \n",
       "5       6.676178      0.934879         0.002001    5.560829e-07   \n",
       "6       0.071434      0.001045         0.001801    3.999718e-04   \n",
       "7       0.014402      0.001019         0.001401    4.895900e-04   \n",
       "\n",
       "  param_criterion param_splitter  \\\n",
       "0   squared_error           best   \n",
       "1   squared_error         random   \n",
       "2    friedman_mse           best   \n",
       "3    friedman_mse         random   \n",
       "4  absolute_error           best   \n",
       "5  absolute_error         random   \n",
       "6         poisson           best   \n",
       "7         poisson         random   \n",
       "\n",
       "                                              params  split0_test_score  \\\n",
       "0  {'criterion': 'squared_error', 'splitter': 'be...           0.592120   \n",
       "1  {'criterion': 'squared_error', 'splitter': 'ra...           0.473400   \n",
       "2  {'criterion': 'friedman_mse', 'splitter': 'best'}           0.593103   \n",
       "3  {'criterion': 'friedman_mse', 'splitter': 'ran...           0.451554   \n",
       "4  {'criterion': 'absolute_error', 'splitter': 'b...           0.575671   \n",
       "5  {'criterion': 'absolute_error', 'splitter': 'r...           0.463614   \n",
       "6       {'criterion': 'poisson', 'splitter': 'best'}           0.236470   \n",
       "7     {'criterion': 'poisson', 'splitter': 'random'}           0.230709   \n",
       "\n",
       "   split1_test_score  split2_test_score  split3_test_score  split4_test_score  \\\n",
       "0           0.593882           0.594066           0.605693           0.590563   \n",
       "1           0.465294           0.436335           0.489457           0.502128   \n",
       "2           0.593784           0.594973           0.605535           0.590563   \n",
       "3           0.410643           0.391561           0.536588           0.443938   \n",
       "4           0.571661           0.580884           0.586217           0.588915   \n",
       "5           0.478784           0.487818           0.377054           0.424121   \n",
       "6           0.252846           0.236237           0.244069           0.234592   \n",
       "7           0.304703           0.278780           0.295391           0.283274   \n",
       "\n",
       "   mean_test_score  std_test_score  rank_test_score  \n",
       "0         0.595265        0.005368                2  \n",
       "1         0.473323        0.022462                4  \n",
       "2         0.595592        0.005177                1  \n",
       "3         0.446857        0.049903                5  \n",
       "4         0.580670        0.006402                3  \n",
       "5         0.446278        0.040904                6  \n",
       "6         0.240843        0.006839                8  \n",
       "7         0.278571        0.025608                7  "
      ]
     },
     "execution_count": 482,
     "metadata": {},
     "output_type": "execute_result"
    }
   ],
   "source": [
    "print(\"Mejores parametros: \"+str(modelo.best_params_))\n",
    "print(\"Mejor Score: \"+str(modelo.best_score_)+'\\n')\n",
    "\n",
    "scores = pd.DataFrame(modelo.cv_results_)\n",
    "scores"
   ]
  },
  {
   "cell_type": "markdown",
   "id": "thousand-league",
   "metadata": {},
   "source": [
    "**Árbol de decisión final optimizado**"
   ]
  },
  {
   "cell_type": "markdown",
   "id": "brutal-cotton",
   "metadata": {},
   "source": [
    "Aunque los score de nuestro árbol de decisión no son tan altos, tenemos la garantía de no estar cayendo en sobreajuste o desajuste; es decir el mejor analisis posible con la menor cantidad de errores."
   ]
  },
  {
   "cell_type": "code",
   "execution_count": 485,
   "id": "searching-killing",
   "metadata": {},
   "outputs": [],
   "source": [
    "tree_regressor1 = DecisionTreeRegressor(max_depth=12,min_samples_leaf = 6, min_samples_split = 5, criterion = 'friedman_mse', splitter = 'best')"
   ]
  },
  {
   "cell_type": "code",
   "execution_count": 486,
   "id": "brown-stroke",
   "metadata": {},
   "outputs": [
    {
     "data": {
      "text/plain": [
       "DecisionTreeRegressor(criterion='friedman_mse', max_depth=12,\n",
       "                      min_samples_leaf=6, min_samples_split=5)"
      ]
     },
     "execution_count": 486,
     "metadata": {},
     "output_type": "execute_result"
    }
   ],
   "source": [
    "tree_regressor1.fit(x_train0, y_train0)"
   ]
  },
  {
   "cell_type": "code",
   "execution_count": 487,
   "id": "dental-buffer",
   "metadata": {},
   "outputs": [
    {
     "data": {
      "text/plain": [
       "0.6911969924768441"
      ]
     },
     "execution_count": 487,
     "metadata": {},
     "output_type": "execute_result"
    }
   ],
   "source": [
    "tree_regressor1.score(x_train0,y_train0)"
   ]
  },
  {
   "cell_type": "code",
   "execution_count": 488,
   "id": "electoral-eating",
   "metadata": {},
   "outputs": [
    {
     "data": {
      "text/plain": [
       "0.5943848111772676"
      ]
     },
     "execution_count": 488,
     "metadata": {},
     "output_type": "execute_result"
    }
   ],
   "source": [
    "tree_regressor1.score(x_test0,y_test0)"
   ]
  },
  {
   "cell_type": "markdown",
   "id": "secure-freedom",
   "metadata": {},
   "source": [
    "**NUEVO MODELO DE MACHINE LEARNING = XGBOOST**"
   ]
  },
  {
   "cell_type": "markdown",
   "id": "typical-shopping",
   "metadata": {},
   "source": [
    "Procedemos a plantear un nuevo modelo el cual nos permita comparar y determinar tanto los score como aquellas caracteristicas mas importantes y con ello tambien dterminar si los mismos coinciden."
   ]
  },
  {
   "cell_type": "code",
   "execution_count": 489,
   "id": "running-married",
   "metadata": {},
   "outputs": [],
   "source": [
    "import xgboost as xgb\n",
    "from sklearn.model_selection import train_test_split\n",
    "from xgboost import XGBRegressor\n"
   ]
  },
  {
   "cell_type": "code",
   "execution_count": 490,
   "id": "prospective-easter",
   "metadata": {},
   "outputs": [],
   "source": [
    "x1_1 = new_antioquia1.drop(['price'],axis = 1) \n",
    "y1_1 = new_antioquia1['price']"
   ]
  },
  {
   "cell_type": "code",
   "execution_count": 491,
   "id": "spread-insured",
   "metadata": {},
   "outputs": [],
   "source": [
    "x_train1_1,x_test1_1,y_train1_1,y_test1_1 = train_test_split(x,y,random_state=42)"
   ]
  },
  {
   "cell_type": "code",
   "execution_count": 492,
   "id": "understanding-squad",
   "metadata": {},
   "outputs": [
    {
     "data": {
      "text/plain": [
       "((34308, 6), (11437, 6))"
      ]
     },
     "execution_count": 492,
     "metadata": {},
     "output_type": "execute_result"
    }
   ],
   "source": [
    "x_train1_1.shape, x_test1_1.shape"
   ]
  },
  {
   "cell_type": "code",
   "execution_count": 493,
   "id": "matched-replica",
   "metadata": {},
   "outputs": [],
   "source": [
    "model = XGBRegressor()"
   ]
  },
  {
   "cell_type": "code",
   "execution_count": 494,
   "id": "working-kingdom",
   "metadata": {},
   "outputs": [
    {
     "data": {
      "text/plain": [
       "XGBRegressor(base_score=0.5, booster='gbtree', colsample_bylevel=1,\n",
       "             colsample_bynode=1, colsample_bytree=1, enable_categorical=False,\n",
       "             gamma=0, gpu_id=-1, importance_type=None,\n",
       "             interaction_constraints='', learning_rate=0.300000012,\n",
       "             max_delta_step=0, max_depth=6, min_child_weight=1, missing=nan,\n",
       "             monotone_constraints='()', n_estimators=100, n_jobs=12,\n",
       "             num_parallel_tree=1, predictor='auto', random_state=0, reg_alpha=0,\n",
       "             reg_lambda=1, scale_pos_weight=1, subsample=1, tree_method='exact',\n",
       "             validate_parameters=1, verbosity=None)"
      ]
     },
     "execution_count": 494,
     "metadata": {},
     "output_type": "execute_result"
    }
   ],
   "source": [
    "model.fit(x_train1_1,y_train1_1)"
   ]
  },
  {
   "cell_type": "code",
   "execution_count": 495,
   "id": "solar-speaking",
   "metadata": {},
   "outputs": [
    {
     "data": {
      "text/plain": [
       "0.6609897375524534"
      ]
     },
     "execution_count": 495,
     "metadata": {},
     "output_type": "execute_result"
    }
   ],
   "source": [
    "model.score(x_test1_1, y_test1_1)"
   ]
  },
  {
   "cell_type": "code",
   "execution_count": 496,
   "id": "yellow-incentive",
   "metadata": {},
   "outputs": [
    {
     "data": {
      "text/plain": [
       "0.743091207906124"
      ]
     },
     "execution_count": 496,
     "metadata": {},
     "output_type": "execute_result"
    }
   ],
   "source": [
    "model.score(x_train1_1, y_train1_1)"
   ]
  },
  {
   "cell_type": "code",
   "execution_count": 497,
   "id": "expensive-continent",
   "metadata": {},
   "outputs": [
    {
     "data": {
      "text/plain": [
       "<AxesSubplot:title={'center':'Feature importance'}, xlabel='F score', ylabel='Features'>"
      ]
     },
     "execution_count": 497,
     "metadata": {},
     "output_type": "execute_result"
    },
    {
     "data": {
      "image/png": "[encoded data removed]",
      "text/plain": [
       "<Figure size 360x360 with 1 Axes>"
      ]
     },
     "metadata": {
      "needs_background": "light"
     },
     "output_type": "display_data"
    }
   ],
   "source": [
    "xgb.plot_importance(model, ax=plt.gca())"
   ]
  },
  {
   "cell_type": "markdown",
   "id": "judicial-steering",
   "metadata": {},
   "source": [
    "**MODELO DEFINITIVO DE XGBOOST**"
   ]
  },
  {
   "cell_type": "code",
   "execution_count": 498,
   "id": "human-williams",
   "metadata": {},
   "outputs": [],
   "source": [
    "x1_2 = new_antioquia1[['lon','lat','bathrooms','surface_total']] \n",
    "y1_2 = new_antioquia1['price']\n",
    "\n",
    "x_train1_2,x_test1_2,y_train1_2,y_test1_2 = train_test_split(x1,y1,random_state=42)"
   ]
  },
  {
   "cell_type": "code",
   "execution_count": 499,
   "id": "incorporate-sleep",
   "metadata": {},
   "outputs": [],
   "source": [
    "model1 = XGBRegressor()"
   ]
  },
  {
   "cell_type": "code",
   "execution_count": 500,
   "id": "elect-accreditation",
   "metadata": {},
   "outputs": [
    {
     "data": {
      "text/plain": [
       "XGBRegressor(base_score=0.5, booster='gbtree', colsample_bylevel=1,\n",
       "             colsample_bynode=1, colsample_bytree=1, enable_categorical=False,\n",
       "             gamma=0, gpu_id=-1, importance_type=None,\n",
       "             interaction_constraints='', learning_rate=0.300000012,\n",
       "             max_delta_step=0, max_depth=6, min_child_weight=1, missing=nan,\n",
       "             monotone_constraints='()', n_estimators=100, n_jobs=12,\n",
       "             num_parallel_tree=1, predictor='auto', random_state=0, reg_alpha=0,\n",
       "             reg_lambda=1, scale_pos_weight=1, subsample=1, tree_method='exact',\n",
       "             validate_parameters=1, verbosity=None)"
      ]
     },
     "execution_count": 500,
     "metadata": {},
     "output_type": "execute_result"
    }
   ],
   "source": [
    "model1.fit(x_train1_2,y_train1_2)"
   ]
  },
  {
   "cell_type": "code",
   "execution_count": 501,
   "id": "painted-power",
   "metadata": {},
   "outputs": [
    {
     "data": {
      "text/plain": [
       "0.6186884352699726"
      ]
     },
     "execution_count": 501,
     "metadata": {},
     "output_type": "execute_result"
    }
   ],
   "source": [
    "model1.score(x_test1_2, y_test1_2)"
   ]
  },
  {
   "cell_type": "code",
   "execution_count": 502,
   "id": "every-packing",
   "metadata": {},
   "outputs": [
    {
     "data": {
      "text/plain": [
       "0.6970550997816565"
      ]
     },
     "execution_count": 502,
     "metadata": {},
     "output_type": "execute_result"
    }
   ],
   "source": [
    "model1.score(x_train1_2, y_train1_2)"
   ]
  },
  {
   "cell_type": "markdown",
   "id": "constant-estate",
   "metadata": {},
   "source": [
    "## Interpretación de modelos"
   ]
  },
  {
   "cell_type": "markdown",
   "id": "indirect-eugene",
   "metadata": {},
   "source": [
    "**Evaluación de los modelos**"
   ]
  },
  {
   "cell_type": "markdown",
   "id": "binding-salem",
   "metadata": {},
   "source": [
    "Procedemos a definir una función que nos permita evaluar los modelos con la finalidad de poder determinar cuál es el mejor."
   ]
  },
  {
   "cell_type": "code",
   "execution_count": 503,
   "id": "informal-nepal",
   "metadata": {},
   "outputs": [],
   "source": [
    "def evaluar_regresion(model,x,y, X_train, X_test, y_train, y_test):\n",
    "    \n",
    "    from sklearn.metrics import mean_squared_error\n",
    "    \n",
    "    y_train_pred = model.predict(X_train)\n",
    "    y_test_pred = model.predict(X_test)\n",
    "    \n",
    "    rmse_train = np.sqrt(mean_squared_error(y_train, y_train_pred))\n",
    "    rmse_test = np.sqrt(mean_squared_error(y_test, y_test_pred))\n",
    "    print(f'Raíz del error cuadrático medio en Train: {rmse_train}')\n",
    "    print(f'Raíz del error cuadrático medio en Test: {rmse_test}')\n",
    "\n",
    "    plt.figure(figsize = (15,4))\n",
    "\n",
    "    plt.subplot(1,2,1)\n",
    "    sns.distplot(y_train - y_train_pred, bins = 20, label = 'train')\n",
    "    sns.distplot(y_test - y_test_pred, bins = 20, label = 'test')\n",
    "    plt.xlabel('errores')\n",
    "    plt.legend()\n",
    "\n",
    "\n",
    "    ax = plt.subplot(1,2,2)\n",
    "    ax.scatter(y_test,y_test_pred, s =2)\n",
    "\n",
    "    lims = [\n",
    "    np.min([ax.get_xlim(), ax.get_ylim()]),  # min of both axes\n",
    "    np.max([ax.get_xlim(), ax.get_ylim()]),  # max of both axes]\n",
    "    ]\n",
    "\n",
    "    ax.plot(lims, lims, 'k-', alpha=0.75, zorder=0)\n",
    "    plt.xlabel('y (test)')\n",
    "    plt.ylabel('y_pred (test)')\n",
    "\n",
    "    plt.tight_layout()\n",
    "    plt.show()"
   ]
  },
  {
   "cell_type": "markdown",
   "id": "hearing-stake",
   "metadata": {},
   "source": [
    "**Evaluación para el modelo árbol de decisión**"
   ]
  },
  {
   "cell_type": "code",
   "execution_count": 504,
   "id": "corrected-kernel",
   "metadata": {},
   "outputs": [
    {
     "name": "stdout",
     "output_type": "stream",
     "text": [
      "Raíz del error cuadrático medio en Train: 116311446.5883746\n",
      "Raíz del error cuadrático medio en Test: 134488142.38748327\n"
     ]
    },
    {
     "name": "stderr",
     "output_type": "stream",
     "text": [
      "D:\\Miniconda\\lib\\site-packages\\seaborn\\distributions.py:2557: FutureWarning: `distplot` is a deprecated function and will be removed in a future version. Please adapt your code to use either `displot` (a figure-level function with similar flexibility) or `histplot` (an axes-level function for histograms).\n",
      "  warnings.warn(msg, FutureWarning)\n",
      "D:\\Miniconda\\lib\\site-packages\\seaborn\\distributions.py:2557: FutureWarning: `distplot` is a deprecated function and will be removed in a future version. Please adapt your code to use either `displot` (a figure-level function with similar flexibility) or `histplot` (an axes-level function for histograms).\n",
      "  warnings.warn(msg, FutureWarning)\n"
     ]
    },
    {
     "data": {
      "image/png": "[encoded data removed]",
      "text/plain": [
       "<Figure size 1080x288 with 2 Axes>"
      ]
     },
     "metadata": {
      "needs_background": "light"
     },
     "output_type": "display_data"
    }
   ],
   "source": [
    "evaluar_regresion(tree_regressor1,x0,y0, x_train0, x_test0, y_train0, y_test0)"
   ]
  },
  {
   "cell_type": "markdown",
   "id": "buried-thermal",
   "metadata": {},
   "source": [
    "**Evaluación para el modelo xgboost**"
   ]
  },
  {
   "cell_type": "code",
   "execution_count": 505,
   "id": "floating-census",
   "metadata": {},
   "outputs": [
    {
     "name": "stdout",
     "output_type": "stream",
     "text": [
      "Raíz del error cuadrático medio en Train: 115202928.57929279\n",
      "Raíz del error cuadrático medio en Test: 130396783.51050498\n"
     ]
    },
    {
     "name": "stderr",
     "output_type": "stream",
     "text": [
      "D:\\Miniconda\\lib\\site-packages\\seaborn\\distributions.py:2557: FutureWarning: `distplot` is a deprecated function and will be removed in a future version. Please adapt your code to use either `displot` (a figure-level function with similar flexibility) or `histplot` (an axes-level function for histograms).\n",
      "  warnings.warn(msg, FutureWarning)\n",
      "D:\\Miniconda\\lib\\site-packages\\seaborn\\distributions.py:2557: FutureWarning: `distplot` is a deprecated function and will be removed in a future version. Please adapt your code to use either `displot` (a figure-level function with similar flexibility) or `histplot` (an axes-level function for histograms).\n",
      "  warnings.warn(msg, FutureWarning)\n"
     ]
    },
    {
     "data": {
      "image/png": "[encoded data removed]",
      "text/plain": [
       "<Figure size 1080x288 with 2 Axes>"
      ]
     },
     "metadata": {
      "needs_background": "light"
     },
     "output_type": "display_data"
    }
   ],
   "source": [
    "evaluar_regresion(model1,x1,y1, x_train1_2, x_test1_2, y_train1_2, y_test1_2)"
   ]
  },
  {
   "cell_type": "markdown",
   "id": "favorite-course",
   "metadata": {},
   "source": [
    "**CONCLUSIONES**"
   ]
  },
  {
   "cell_type": "markdown",
   "id": "compliant-reliance",
   "metadata": {},
   "source": [
    "* Aunque no es una diferencia tan alta podemos evidenciar que para este caso nuestro mejor modelo será el correspondiente al de XGBoost ya que es el que menos cantidad de errores está cometiendo de acuerdo a la evaluación realizada.\n",
    "\n",
    "* En definitiva para este dataset las variables de lat y lon son las más importantes; es decir que en la región de Antioquia en Colombia la ubicación juega un papel fundamental en el precio, lo cual es de esperarse teniendo en cuenta que entran en juego temas de seguridad de facilidad de desplazamiento y otros relacionados justamente con la ubicación de un predio.\n",
    "\n",
    "* Sin importar el tipo de propiedad para la variable bathrooms contar con más de uno por predio será algo que suma y aporta al valor total del predio."
   ]
  }
 ],
 "metadata": {
  "kernelspec": {
   "display_name": "Python 3",
   "language": "python",
   "name": "python3"
  },
  "language_info": {
   "codemirror_mode": {
    "name": "ipython",
    "version": 3
   },
   "file_extension": ".py",
   "mimetype": "text/x-python",
   "name": "python",
   "nbconvert_exporter": "python",
   "pygments_lexer": "ipython3",
   "version": "3.8.3"
  }
 },
 "nbformat": 4,
 "nbformat_minor": 5
}
